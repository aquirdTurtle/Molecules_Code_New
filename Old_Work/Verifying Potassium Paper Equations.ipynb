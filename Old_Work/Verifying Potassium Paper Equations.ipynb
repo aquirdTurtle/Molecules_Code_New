{
 "cells": [
  {
   "cell_type": "markdown",
   "metadata": {
    "tags": []
   },
   "source": [
    "## verifying equations in potassium paper"
   ]
  },
  {
   "cell_type": "code",
   "execution_count": 1,
   "metadata": {},
   "outputs": [],
   "source": [
    "import numpy as np"
   ]
  },
  {
   "cell_type": "code",
   "execution_count": 2,
   "metadata": {},
   "outputs": [],
   "source": [
    "import sympy as sp\n",
    "from sympy.physics.quantum.cg import CG\n",
    "from sympy.physics.wigner import wigner_9j\n",
    "from sympy.physics.secondquant import KroneckerDelta\n",
    "import math"
   ]
  },
  {
   "cell_type": "code",
   "execution_count": 1,
   "metadata": {},
   "outputs": [],
   "source": [
    "def coef_fs( j_a, j_b, j, ell, L,\n",
    "            #L, L_a, L_b,\n",
    "             S, S_a, S_b,\n",
    "             Lambda, Sigma, Omega, p, J):\n",
    "    L_a = 0\n",
    "    L_b = L\n",
    "    sign = (-1)**(ell-Omega-J)\n",
    "    frac = (1+(-1)**(L_b+ell+p)*(1-KroneckerDelta(Lambda,0)*KroneckerDelta(Sigma,0)))/sp.sqrt(2-KroneckerDelta(Lambda,0)*KroneckerDelta(Sigma,0))\n",
    "    twoxm1Term = sp.sqrt(int((2*S+1)*(2*j_a+1)*(2*j_b+1)*(2*L+1)))\n",
    "    cgcoeffs = CG(J,Omega,j,-Omega,ell,0).doit()*CG(L,Lambda,S,Sigma, j,Omega).doit()\n",
    "    wig = wigner_9j(L_a,S_a,j_a,L_b,S_b,j_b,L,S,j)\n",
    "    return sign*frac*twoxm1Term*cgcoeffs*wig"
   ]
  },
  {
   "cell_type": "markdown",
   "metadata": {
    "tags": []
   },
   "source": [
    "### e states"
   ]
  },
  {
   "cell_type": "markdown",
   "metadata": {
    "heading_collapsed": "true",
    "tags": []
   },
   "source": [
    "#### first column"
   ]
  },
  {
   "cell_type": "code",
   "execution_count": 6,
   "metadata": {},
   "outputs": [
    {
     "name": "stdout",
     "output_type": "stream",
     "text": [
      "True 0.3651483716701107 0.3651483716701107\n",
      "True -0.4472135954999579 -0.44721359549995787\n",
      "True 0.5163977794943222 0.5163977794943222\n",
      "True -0.6324555320336759 -0.6324555320336758\n",
      "True 0.0 0\n",
      "True 0.0 0\n"
     ]
    }
   ],
   "source": [
    "J=2\n",
    "ell = J-1\n",
    "s_a = s_b = j_a = j_b = 1/2\n",
    "j = L = 1\n",
    "S = Lambda = Sigma = 0\n",
    "Omega = Lambda+Sigma\n",
    "#p = (-1)**J\n",
    "p = 0 if (-1)**J>0 else 1\n",
    "\n",
    "N = 1/np.sqrt(6*(2*J+1))\n",
    "\n",
    "coefVal = float(coef_fs(j_a,j_b,j,ell,L,S,s_a,s_b,Lambda, Sigma, Omega,p,J))\n",
    "predictVal = N*np.sqrt(2*J)\n",
    "print(math.isclose(coefVal,predictVal), coefVal,predictVal)\n",
    "\n",
    "ell = J+1\n",
    "predictVal = -N*np.sqrt(2*(J+1))\n",
    "coefVal = float(coef_fs(j_a,j_b,j,ell,L,S,s_a,s_b,Lambda, Sigma, Omega,p,J))\n",
    "print(math.isclose(coefVal,predictVal), coefVal,predictVal)\n",
    "\n",
    "j_b = 3/2\n",
    "ell = J-1\n",
    "predictVal = 2*N*np.sqrt(J)\n",
    "coefVal = float(coef_fs(j_a,j_b,j,ell,L,S,s_a,s_b,Lambda, Sigma, Omega,p,J))\n",
    "print(math.isclose(coefVal,predictVal), coefVal,predictVal)\n",
    "\n",
    "ell = J+1\n",
    "predictVal = -2*N*np.sqrt(J+1)\n",
    "coefVal = float(coef_fs(j_a,j_b,j,ell,L,S,s_a,s_b,Lambda, Sigma, Omega,p,J))\n",
    "print(math.isclose(coefVal,predictVal), coefVal,predictVal)\n",
    "\n",
    "j = 2\n",
    "ell = J-1\n",
    "predictVal = 0\n",
    "coefVal = float(coef_fs(j_a,j_b,j,ell,L,S,s_a,s_b,Lambda, Sigma, Omega,p,J))\n",
    "print(math.isclose(coefVal,predictVal), coefVal,predictVal)\n",
    "\n",
    "ell = J+1\n",
    "predictVal = 0\n",
    "coefVal = float(coef_fs(j_a,j_b,j,ell,L,S,s_a,s_b,Lambda, Sigma, Omega,p,J))\n",
    "print(math.isclose(coefVal,predictVal), coefVal,predictVal)"
   ]
  },
  {
   "cell_type": "markdown",
   "metadata": {
    "heading_collapsed": "true",
    "tags": []
   },
   "source": [
    "#### second column"
   ]
  },
  {
   "cell_type": "code",
   "execution_count": 7,
   "metadata": {},
   "outputs": [
    {
     "name": "stdout",
     "output_type": "stream",
     "text": [
      "True 0.5443310539518174 0.5443310539518174\n",
      "True -0.6085806194501846 -0.6085806194501846\n",
      "True -0.38490017945975047 -0.3849001794597505\n",
      "True 0.43033148291193524 0.43033148291193524\n",
      "True 0.0 0\n",
      "True 0.0 0\n"
     ]
    }
   ],
   "source": [
    "J=4\n",
    "ell = J-1\n",
    "s_a = s_b = j_a = j_b = 1/2\n",
    "j = L = 1\n",
    "Sigma = 0\n",
    "S = Lambda = 1\n",
    "\n",
    "Omega = 0\n",
    "Sigma = Omega - Lambda\n",
    "#Omega = Lambda+Sigma\n",
    "p = 0 if (-1)**J>0 else 1\n",
    "\n",
    "N = 1/np.sqrt(6*(2*J+1))\n",
    "\n",
    "coefVal = float(coef_fs(j_a,j_b,j,ell,L,S,s_a,s_b,Lambda, Sigma, Omega,p,J))\n",
    "predictVal = 2*N*np.sqrt(J)\n",
    "print(math.isclose(coefVal,predictVal), coefVal,predictVal)\n",
    "\n",
    "ell = J+1\n",
    "predictVal = -2*N*np.sqrt(J+1)\n",
    "coefVal = float(coef_fs(j_a,j_b,j,ell,L,S,s_a,s_b,Lambda, Sigma, Omega,p,J))\n",
    "print(math.isclose(coefVal,predictVal), coefVal,predictVal)\n",
    "\n",
    "j_b = 3/2\n",
    "ell = J-1\n",
    "predictVal = -N*np.sqrt(2*J)\n",
    "coefVal = float(coef_fs(j_a,j_b,j,ell,L,S,s_a,s_b,Lambda, Sigma, Omega,p,J))\n",
    "print(math.isclose(coefVal,predictVal), coefVal,predictVal)\n",
    "\n",
    "ell = J+1\n",
    "predictVal = N*np.sqrt(2*(J+1))\n",
    "coefVal = float(coef_fs(j_a,j_b,j,ell,L,S,s_a,s_b,Lambda, Sigma, Omega,p,J))\n",
    "print(math.isclose(coefVal,predictVal), coefVal,predictVal)\n",
    "\n",
    "j = 2\n",
    "ell = J-1\n",
    "predictVal = 0\n",
    "coefVal = float(coef_fs(j_a,j_b,j,ell,L,S,s_a,s_b,Lambda, Sigma, Omega,p,J))\n",
    "print(math.isclose(coefVal,predictVal), coefVal,predictVal)\n",
    "\n",
    "ell = J+1\n",
    "predictVal = 0\n",
    "coefVal = float(coef_fs(j_a,j_b,j,ell,L,S,s_a,s_b,Lambda, Sigma, Omega,p,J))\n",
    "print(math.isclose(coefVal,predictVal), coefVal,predictVal)"
   ]
  },
  {
   "cell_type": "markdown",
   "metadata": {
    "heading_collapsed": "true",
    "tags": []
   },
   "source": [
    "#### third Column"
   ]
  },
  {
   "cell_type": "code",
   "execution_count": 8,
   "metadata": {},
   "outputs": [
    {
     "name": "stdout",
     "output_type": "stream",
     "text": [
      "True 0.4236592728681617 0.42365927286816163\n",
      "True 0.3922322702763681 0.392232270276368\n",
      "True 0.5991446895152781 0.599144689515278\n",
      "True 0.5547001962252291 0.554700196225229\n",
      "True 0.0 0\n",
      "True 0.0 0\n"
     ]
    }
   ],
   "source": [
    "J=6\n",
    "ell = J-1\n",
    "s_a = s_b = j_a = j_b = 1/2\n",
    "j = L = 1\n",
    "\n",
    "S = 0\n",
    "#Sigma = 0\n",
    "Lambda = 1\n",
    "\n",
    "Omega = 1\n",
    "Sigma = Omega - Lambda\n",
    "#Omega = Lambda+Sigma\n",
    "p = 0 if (-1)**J>0 else 1\n",
    "\n",
    "N = 1/np.sqrt(6*(2*J+1))\n",
    "\n",
    "coefVal = float(coef_fs(j_a,j_b,j,ell,L,S,s_a,s_b,Lambda, Sigma, Omega,p,J))\n",
    "predictVal = N*np.sqrt(2*(J+1))\n",
    "print(math.isclose(coefVal,predictVal), coefVal,predictVal)\n",
    "\n",
    "ell = J+1\n",
    "predictVal = N*np.sqrt(2*J)\n",
    "coefVal = float(coef_fs(j_a,j_b,j,ell,L,S,s_a,s_b,Lambda, Sigma, Omega,p,J))\n",
    "print(math.isclose(coefVal,predictVal), coefVal,predictVal)\n",
    "\n",
    "j_b = 3/2\n",
    "ell = J-1\n",
    "predictVal = N*2*np.sqrt(J+1)\n",
    "coefVal = float(coef_fs(j_a,j_b,j,ell,L,S,s_a,s_b,Lambda, Sigma, Omega,p,J))\n",
    "print(math.isclose(coefVal,predictVal), coefVal,predictVal)\n",
    "\n",
    "ell = J+1\n",
    "predictVal = N*2*np.sqrt(J)\n",
    "coefVal = float(coef_fs(j_a,j_b,j,ell,L,S,s_a,s_b,Lambda, Sigma, Omega,p,J))\n",
    "print(math.isclose(coefVal,predictVal), coefVal,predictVal)\n",
    "\n",
    "j = 2\n",
    "ell = J-1\n",
    "predictVal = 0\n",
    "coefVal = float(coef_fs(j_a,j_b,j,ell,L,S,s_a,s_b,Lambda, Sigma, Omega,p,J))\n",
    "print(math.isclose(coefVal,predictVal), coefVal,predictVal)\n",
    "\n",
    "ell = J+1\n",
    "predictVal = 0\n",
    "coefVal = float(coef_fs(j_a,j_b,j,ell,L,S,s_a,s_b,Lambda, Sigma, Omega,p,J))\n",
    "print(math.isclose(coefVal,predictVal), coefVal,predictVal)"
   ]
  },
  {
   "cell_type": "markdown",
   "metadata": {
    "heading_collapsed": "true",
    "tags": []
   },
   "source": [
    "#### fourth column"
   ]
  },
  {
   "cell_type": "code",
   "execution_count": 9,
   "metadata": {},
   "outputs": [
    {
     "name": "stdout",
     "output_type": "stream",
     "text": [
      "True -0.4236592728681617 -0.42365927286816163\n",
      "True -0.3922322702763681 -0.392232270276368\n",
      "True 0.29957234475763905 0.299572344757639\n",
      "True 0.2773500981126146 0.2773500981126145\n",
      "True -0.43852900965351466 -0.4385290096535146\n",
      "True 0.5547001962252291 0.554700196225229\n"
     ]
    }
   ],
   "source": [
    "J=6\n",
    "ell = J-1\n",
    "s_a = s_b = j_a = j_b = 1/2\n",
    "j = L = 1\n",
    "\n",
    "S = 1\n",
    "Lambda = 0\n",
    "\n",
    "Omega = 1\n",
    "Sigma = Omega - Lambda\n",
    "#Omega = Lambda+Sigma\n",
    "p = 0 if (-1)**J>0 else 1\n",
    "\n",
    "N = 1/np.sqrt(6*(2*J+1))\n",
    "\n",
    "coefVal = float(coef_fs(j_a,j_b,j,ell,L,S,s_a,s_b,Lambda, Sigma, Omega,p,J))\n",
    "predictVal = -N*np.sqrt(2*(J+1))\n",
    "print(math.isclose(coefVal,predictVal), coefVal,predictVal)\n",
    "\n",
    "ell = J+1\n",
    "predictVal = -N*np.sqrt(2*J)\n",
    "coefVal = float(coef_fs(j_a,j_b,j,ell,L,S,s_a,s_b,Lambda, Sigma, Omega,p,J))\n",
    "print(math.isclose(coefVal,predictVal), coefVal,predictVal)\n",
    "\n",
    "j_b = 3/2\n",
    "ell = J-1\n",
    "predictVal = N*np.sqrt(J+1)\n",
    "coefVal = float(coef_fs(j_a,j_b,j,ell,L,S,s_a,s_b,Lambda, Sigma, Omega,p,J))\n",
    "print(math.isclose(coefVal,predictVal), coefVal,predictVal)\n",
    "\n",
    "ell = J+1\n",
    "predictVal = N*np.sqrt(J)\n",
    "coefVal = float(coef_fs(j_a,j_b,j,ell,L,S,s_a,s_b,Lambda, Sigma, Omega,p,J))\n",
    "print(math.isclose(coefVal,predictVal), coefVal,predictVal)\n",
    "\n",
    "j = 2\n",
    "ell = J-1\n",
    "predictVal = -N*np.sqrt(3*(J-1))\n",
    "coefVal = float(coef_fs(j_a,j_b,j,ell,L,S,s_a,s_b,Lambda, Sigma, Omega,p,J))\n",
    "print(math.isclose(coefVal,predictVal), coefVal,predictVal)\n",
    "\n",
    "ell = J+1\n",
    "predictVal = N*np.sqrt(3*(J+2))\n",
    "coefVal = float(coef_fs(j_a,j_b,j,ell,L,S,s_a,s_b,Lambda, Sigma, Omega,p,J))\n",
    "print(math.isclose(coefVal,predictVal), coefVal,predictVal)"
   ]
  },
  {
   "cell_type": "markdown",
   "metadata": {
    "heading_collapsed": "true",
    "tags": []
   },
   "source": [
    "#### fifth column"
   ]
  },
  {
   "cell_type": "code",
   "execution_count": 10,
   "metadata": {},
   "outputs": [
    {
     "name": "stdout",
     "output_type": "stream",
     "text": [
      "True 0.4216370213557839 0.4216370213557839\n",
      "True 0.39440531887330776 0.3944053188733077\n",
      "True -0.29814239699997197 -0.29814239699997197\n",
      "True -0.27888667551135854 -0.27888667551135854\n",
      "True -0.447213595499958 -0.44721359549995787\n",
      "True 0.5477225575051661 0.5477225575051661\n"
     ]
    }
   ],
   "source": [
    "J=7\n",
    "ell = J-1\n",
    "s_a = s_b = j_a = j_b = 1/2\n",
    "j = L = 1\n",
    "\n",
    "S = 1\n",
    "Lambda = 1\n",
    "\n",
    "Omega = 1\n",
    "Sigma = Omega - Lambda\n",
    "#Omega = Lambda+Sigma\n",
    "p = 0 if (-1)**J>0 else 1\n",
    "\n",
    "\n",
    "N = 1/np.sqrt(6*(2*J+1))\n",
    "\n",
    "coefVal = float(coef_fs(j_a,j_b,j,ell,L,S,s_a,s_b,Lambda, Sigma, Omega,p,J))\n",
    "predictVal = N*np.sqrt(2*(J+1))\n",
    "print(math.isclose(coefVal,predictVal), coefVal,predictVal)\n",
    "\n",
    "ell = J+1\n",
    "predictVal = N*np.sqrt(2*J)\n",
    "coefVal = float(coef_fs(j_a,j_b,j,ell,L,S,s_a,s_b,Lambda, Sigma, Omega,p,J))\n",
    "print(math.isclose(coefVal,predictVal), coefVal,predictVal)\n",
    "\n",
    "j_b = 3/2\n",
    "ell = J-1\n",
    "predictVal = -N*np.sqrt(J+1)\n",
    "coefVal = float(coef_fs(j_a,j_b,j,ell,L,S,s_a,s_b,Lambda, Sigma, Omega,p,J))\n",
    "print(math.isclose(coefVal,predictVal), coefVal,predictVal)\n",
    "\n",
    "ell = J+1\n",
    "predictVal = -N*np.sqrt(J)\n",
    "coefVal = float(coef_fs(j_a,j_b,j,ell,L,S,s_a,s_b,Lambda, Sigma, Omega,p,J))\n",
    "print(math.isclose(coefVal,predictVal), coefVal,predictVal)\n",
    "\n",
    "j = 2\n",
    "ell = J-1\n",
    "predictVal = -N*np.sqrt(3*(J-1))\n",
    "coefVal = float(coef_fs(j_a,j_b,j,ell,L,S,s_a,s_b,Lambda, Sigma, Omega,p,J))\n",
    "print(math.isclose(coefVal,predictVal), coefVal,predictVal)\n",
    "\n",
    "ell = J+1\n",
    "predictVal = N*np.sqrt(3*(J+2))\n",
    "coefVal = float(coef_fs(j_a,j_b,j,ell,L,S,s_a,s_b,Lambda, Sigma, Omega,p,J))\n",
    "print(math.isclose(coefVal,predictVal), coefVal,predictVal)"
   ]
  },
  {
   "cell_type": "markdown",
   "metadata": {
    "tags": []
   },
   "source": [
    "#### sixth column"
   ]
  },
  {
   "cell_type": "code",
   "execution_count": 11,
   "metadata": {},
   "outputs": [
    {
     "name": "stdout",
     "output_type": "stream",
     "text": [
      "True 0.0 0\n",
      "True 0.0 0\n",
      "True 0.0 0\n",
      "True 0.0 0\n",
      "True -0.7745966692414834 -0.7745966692414834\n",
      "True -0.6324555320336759 -0.6324555320336759\n"
     ]
    }
   ],
   "source": [
    "J=7\n",
    "ell = J-1\n",
    "s_a = s_b = j_a = j_b = 1/2\n",
    "j = L = 1\n",
    "\n",
    "S = 1\n",
    "Lambda = 1\n",
    "Omega = 2\n",
    "\n",
    "Sigma = Omega - Lambda\n",
    "p = 0 if (-1)**J>0 else 1\n",
    "\n",
    "N = 1/np.sqrt(6*(2*J+1))\n",
    "\n",
    "coefVal = float(coef_fs(j_a,j_b,j,ell,L,S,s_a,s_b,Lambda, Sigma, Omega,p,J))\n",
    "predictVal = 0\n",
    "print(math.isclose(coefVal,predictVal), coefVal,predictVal)\n",
    "\n",
    "ell = J+1\n",
    "predictVal = 0\n",
    "coefVal = float(coef_fs(j_a,j_b,j,ell,L,S,s_a,s_b,Lambda, Sigma, Omega,p,J))\n",
    "print(math.isclose(coefVal,predictVal), coefVal,predictVal)\n",
    "\n",
    "j_b = 3/2\n",
    "ell = J-1\n",
    "predictVal = 0\n",
    "coefVal = float(coef_fs(j_a,j_b,j,ell,L,S,s_a,s_b,Lambda, Sigma, Omega,p,J))\n",
    "print(math.isclose(coefVal,predictVal), coefVal,predictVal)\n",
    "\n",
    "ell = J+1\n",
    "predictVal = 0\n",
    "coefVal = float(coef_fs(j_a,j_b,j,ell,L,S,s_a,s_b,Lambda, Sigma, Omega,p,J))\n",
    "print(math.isclose(coefVal,predictVal), coefVal,predictVal)\n",
    "\n",
    "j = 2\n",
    "ell = J-1\n",
    "predictVal = -N*np.sqrt(6*(J+2))\n",
    "coefVal = float(coef_fs(j_a,j_b,j,ell,L,S,s_a,s_b,Lambda, Sigma, Omega,p,J))\n",
    "print(math.isclose(coefVal,predictVal), coefVal,predictVal)\n",
    "\n",
    "ell = J+1\n",
    "predictVal = -N*np.sqrt(6*(J-1))\n",
    "coefVal = float(coef_fs(j_a,j_b,j,ell,L,S,s_a,s_b,Lambda, Sigma, Omega,p,J))\n",
    "print(math.isclose(coefVal,predictVal), coefVal,predictVal)"
   ]
  },
  {
   "cell_type": "markdown",
   "metadata": {
    "tags": []
   },
   "source": [
    "### f states"
   ]
  },
  {
   "cell_type": "markdown",
   "metadata": {
    "tags": []
   },
   "source": [
    "#### total"
   ]
  },
  {
   "cell_type": "code",
   "execution_count": 35,
   "metadata": {},
   "outputs": [],
   "source": [
    "fS_ae = np.zeros((6,6))\n",
    "J=0\n",
    "ell = J\n",
    "s_a = s_b = j_a = j_b = 1/2\n",
    "L = 1\n",
    "j = 0\n",
    "\n",
    "S = 1\n",
    "Lambda = 0\n",
    "Omega = 0\n",
    "\n",
    "Sigma = Omega - Lambda\n",
    "C = (2*J+3)*(2*J-1)\n",
    "D = (2*J+3)*(2*J+1)\n",
    "p = 0 if (-1)**(J+1)>0 else 1\n",
    "#p = -1\n",
    "fS_ae[0,0] = float(coef_fs(j_a,j_b,j,ell,L,S,s_a,s_b,Lambda, Sigma, Omega,p,J))\n",
    "j = 1\n",
    "fS_ae[1,0] = float(coef_fs(j_a,j_b,j,ell,L,S,s_a,s_b,Lambda, Sigma, Omega,p,J))\n",
    "j_b = 3/2\n",
    "fS_ae[2,0] = float(coef_fs(j_a,j_b,j,ell,L,S,s_a,s_b,Lambda, Sigma, Omega,p,J))\n",
    "ell = J-2\n",
    "j = 2\n",
    "fS_ae[3,0] = float(coef_fs(j_a,j_b,j,ell,L,S,s_a,s_b,Lambda, Sigma, Omega,p,J))\n",
    "ell = J\n",
    "fS_ae[4,0] = float(coef_fs(j_a,j_b,j,ell,L,S,s_a,s_b,Lambda, Sigma, Omega,p,J))\n",
    "ell = J+2\n",
    "fS_ae[5,0] = float(coef_fs(j_a,j_b,j,ell,L,S,s_a,s_b,Lambda, Sigma, Omega,p,J))\n",
    "\n",
    "ell = J\n",
    "s_a = s_b = j_a = j_b = 1/2\n",
    "L = 1\n",
    "j = 0\n",
    "\n",
    "S = 1\n",
    "Lambda = 1\n",
    "Omega = 0\n",
    "\n",
    "Sigma = Omega - Lambda\n",
    "#p = 0 if (-1)**(J+1)>0 else 1\n",
    "#p = -1\n",
    "fS_ae[0,1] = float(coef_fs(j_a,j_b,j,ell,L,S,s_a,s_b,Lambda, Sigma, Omega,p,J))\n",
    "j = 1\n",
    "fS_ae[1,1] = float(coef_fs(j_a,j_b,j,ell,L,S,s_a,s_b,Lambda, Sigma, Omega,p,J))\n",
    "j_b = 3/2\n",
    "fS_ae[2,1] = float(coef_fs(j_a,j_b,j,ell,L,S,s_a,s_b,Lambda, Sigma, Omega,p,J))\n",
    "ell = J-2\n",
    "j = 2\n",
    "fS_ae[3,1] = float(coef_fs(j_a,j_b,j,ell,L,S,s_a,s_b,Lambda, Sigma, Omega,p,J))\n",
    "ell = J\n",
    "fS_ae[4,1] = float(coef_fs(j_a,j_b,j,ell,L,S,s_a,s_b,Lambda, Sigma, Omega,p,J))\n",
    "ell = J+2\n",
    "fS_ae[5,1] = float(coef_fs(j_a,j_b,j,ell,L,S,s_a,s_b,Lambda, Sigma, Omega,p,J))\n",
    "\n",
    "ell = J\n",
    "s_a = s_b = j_a = j_b = 1/2\n",
    "L = 1\n",
    "j = 0\n",
    "\n",
    "S = 0\n",
    "Lambda = 1\n",
    "Omega = 1\n",
    "\n",
    "Sigma = Omega - Lambda\n",
    "#p = 0 if (-1)**(J+1)>0 else 1\n",
    "#p = -1\n",
    "fS_ae[0,2] = float(coef_fs(j_a,j_b,j,ell,L,S,s_a,s_b,Lambda, Sigma, Omega,p,J))\n",
    "j = 1\n",
    "fS_ae[1,2] = float(coef_fs(j_a,j_b,j,ell,L,S,s_a,s_b,Lambda, Sigma, Omega,p,J))\n",
    "j_b = 3/2\n",
    "fS_ae[2,2] = float(coef_fs(j_a,j_b,j,ell,L,S,s_a,s_b,Lambda, Sigma, Omega,p,J))\n",
    "ell = J-2\n",
    "j = 2\n",
    "fS_ae[3,2] = float(coef_fs(j_a,j_b,j,ell,L,S,s_a,s_b,Lambda, Sigma, Omega,p,J))\n",
    "ell = J\n",
    "fS_ae[4,2] = float(coef_fs(j_a,j_b,j,ell,L,S,s_a,s_b,Lambda, Sigma, Omega,p,J))\n",
    "ell = J+2\n",
    "fS_ae[5,2] = float(coef_fs(j_a,j_b,j,ell,L,S,s_a,s_b,Lambda, Sigma, Omega,p,J))\n",
    "\n",
    "ell = J\n",
    "s_a = s_b = j_a = j_b = 1/2\n",
    "L = 1\n",
    "j = 0\n",
    "\n",
    "S = 1\n",
    "Lambda = 0\n",
    "Omega = 1\n",
    "\n",
    "Sigma = Omega - Lambda\n",
    "#p = 0 if (-1)**(J+1)>0 else 1\n",
    "#p = -1\n",
    "fS_ae[0,3] = float(coef_fs(j_a,j_b,j,ell,L,S,s_a,s_b,Lambda, Sigma, Omega,p,J))\n",
    "j = 1\n",
    "fS_ae[1,3] = float(coef_fs(j_a,j_b,j,ell,L,S,s_a,s_b,Lambda, Sigma, Omega,p,J))\n",
    "j_b = 3/2\n",
    "fS_ae[2,3] = float(coef_fs(j_a,j_b,j,ell,L,S,s_a,s_b,Lambda, Sigma, Omega,p,J))\n",
    "ell = J-2\n",
    "j = 2\n",
    "fS_ae[3,3] = float(coef_fs(j_a,j_b,j,ell,L,S,s_a,s_b,Lambda, Sigma, Omega,p,J))\n",
    "ell = J\n",
    "fS_ae[4,3] = float(coef_fs(j_a,j_b,j,ell,L,S,s_a,s_b,Lambda, Sigma, Omega,p,J))\n",
    "ell = J+2\n",
    "fS_ae[5,3] = float(coef_fs(j_a,j_b,j,ell,L,S,s_a,s_b,Lambda, Sigma, Omega,p,J))\n",
    "\n",
    "ell = J\n",
    "s_a = s_b = j_a = j_b = 1/2\n",
    "L = 1\n",
    "j = 0\n",
    "\n",
    "S = 1\n",
    "Lambda = 1\n",
    "Omega = 1\n",
    "Sigma = Omega - Lambda\n",
    "#p = 0 if (-1)**(J+1)>0 else 1\n",
    "#p = -1\n",
    "fS_ae[0,4] = float(coef_fs(j_a,j_b,j,ell,L,S,s_a,s_b,Lambda, Sigma, Omega,p,J))\n",
    "j = 1\n",
    "fS_ae[1,4] = float(coef_fs(j_a,j_b,j,ell,L,S,s_a,s_b,Lambda, Sigma, Omega,p,J))\n",
    "j_b = 3/2\n",
    "fS_ae[2,4] = float(coef_fs(j_a,j_b,j,ell,L,S,s_a,s_b,Lambda, Sigma, Omega,p,J))\n",
    "ell = J-2\n",
    "j = 2\n",
    "fS_ae[3,4] = float(coef_fs(j_a,j_b,j,ell,L,S,s_a,s_b,Lambda, Sigma, Omega,p,J))\n",
    "ell = J\n",
    "fS_ae[4,4] = float(coef_fs(j_a,j_b,j,ell,L,S,s_a,s_b,Lambda, Sigma, Omega,p,J))\n",
    "ell = J+2\n",
    "fS_ae[5,4] = float(coef_fs(j_a,j_b,j,ell,L,S,s_a,s_b,Lambda, Sigma, Omega,p,J))\n",
    "\n",
    "ell = J\n",
    "s_a = s_b = j_a = j_b = 1/2\n",
    "L = 1\n",
    "j = 0\n",
    "\n",
    "S = 1\n",
    "Lambda = 1\n",
    "Omega = 2\n",
    "\n",
    "Sigma = Omega - Lambda\n",
    "#p = 1 if (-1)**J>0 else 0\n",
    "#p = -1\n",
    "fS_ae[0,5] = float(coef_fs(j_a,j_b,j,ell,L,S,s_a,s_b,Lambda, Sigma, Omega,p,J))\n",
    "j = 1\n",
    "fS_ae[1,5] = float(coef_fs(j_a,j_b,j,ell,L,S,s_a,s_b,Lambda, Sigma, Omega,p,J))\n",
    "j_b = 3/2\n",
    "fS_ae[2,5] = float(coef_fs(j_a,j_b,j,ell,L,S,s_a,s_b,Lambda, Sigma, Omega,p,J))\n",
    "ell = J-2\n",
    "j = 2\n",
    "fS_ae[3,5] = float(coef_fs(j_a,j_b,j,ell,L,S,s_a,s_b,Lambda, Sigma, Omega,p,J))\n",
    "ell = J\n",
    "fS_ae[4,5] = float(coef_fs(j_a,j_b,j,ell,L,S,s_a,s_b,Lambda, Sigma, Omega,p,J))\n",
    "ell = J+2\n",
    "fS_ae[5,5] = float(coef_fs(j_a,j_b,j,ell,L,S,s_a,s_b,Lambda, Sigma, Omega,p,J))"
   ]
  },
  {
   "cell_type": "code",
   "execution_count": 36,
   "metadata": {},
   "outputs": [],
   "source": [
    "np.set_printoptions(edgeitems=30, linewidth=100000);\n",
    "    #formatter=dict(float=lambda x: \"%.3g\" % x))"
   ]
  },
  {
   "cell_type": "code",
   "execution_count": 37,
   "metadata": {},
   "outputs": [
    {
     "data": {
      "text/plain": [
       "array([[ 0.57735027, -0.81649658,  0.        ,  0.        ,  0.        ,  0.        ],\n",
       "       [ 0.        ,  0.        ,  0.        ,  0.        ,  0.        ,  0.        ],\n",
       "       [ 0.        ,  0.        ,  0.        ,  0.        ,  0.        ,  0.        ],\n",
       "       [ 0.        ,  0.        ,  0.        ,  0.        ,  0.        ,  0.        ],\n",
       "       [ 0.        ,  0.        ,  0.        ,  0.        ,  0.        ,  0.        ],\n",
       "       [ 0.81649658,  0.57735027,  0.        ,  0.        ,  0.        ,  0.        ]])"
      ]
     },
     "metadata": {},
     "output_type": "display_data"
    },
    {
     "data": {
      "text/plain": [
       "array([[ 1.0000000e+00, -2.1531457e-17,  0.0000000e+00,  0.0000000e+00,  0.0000000e+00,  0.0000000e+00],\n",
       "       [-2.1531457e-17,  1.0000000e+00,  0.0000000e+00,  0.0000000e+00,  0.0000000e+00,  0.0000000e+00],\n",
       "       [ 0.0000000e+00,  0.0000000e+00,  0.0000000e+00,  0.0000000e+00,  0.0000000e+00,  0.0000000e+00],\n",
       "       [ 0.0000000e+00,  0.0000000e+00,  0.0000000e+00,  0.0000000e+00,  0.0000000e+00,  0.0000000e+00],\n",
       "       [ 0.0000000e+00,  0.0000000e+00,  0.0000000e+00,  0.0000000e+00,  0.0000000e+00,  0.0000000e+00],\n",
       "       [ 0.0000000e+00,  0.0000000e+00,  0.0000000e+00,  0.0000000e+00,  0.0000000e+00,  0.0000000e+00]])"
      ]
     },
     "metadata": {},
     "output_type": "display_data"
    },
    {
     "name": "stdout",
     "output_type": "stream",
     "text": [
      "[1. 1. 0. 0. 0. 0.]\n"
     ]
    }
   ],
   "source": [
    "display(fS_ae)\n",
    "display(fS_ae.T@fS_ae)\n",
    "print(np.diag(fS_ae.T@fS_ae))"
   ]
  },
  {
   "cell_type": "markdown",
   "metadata": {
    "heading_collapsed": "true",
    "tags": []
   },
   "source": [
    "#### First Column"
   ]
  },
  {
   "cell_type": "code",
   "execution_count": 15,
   "metadata": {},
   "outputs": [
    {
     "name": "stdout",
     "output_type": "stream",
     "text": [
      "True 0.5773502691896257 0.5773502691896257\n",
      "True 0.0 0\n",
      "True 0.0 0\n",
      "True 0.4880884031398789 0.48808840313987895\n",
      "True -0.408580064830253 -0.40858006483025305\n",
      "True 0.511369443758948 0.511369443758948\n"
     ]
    }
   ],
   "source": [
    "J=21\n",
    "ell = J\n",
    "s_a = s_b = j_a = j_b = 1/2\n",
    "L = 1\n",
    "j = 0\n",
    "\n",
    "S = 1\n",
    "Lambda = 0\n",
    "Omega = 0\n",
    "\n",
    "Sigma = Omega - Lambda\n",
    "C = (2*J+3)*(2*J-1)\n",
    "D = (2*J+3)*(2*J+1)\n",
    "p = 0 if (-1)**(J+1)>0 else 1\n",
    "#p = -1\n",
    "\n",
    "N = 1/np.sqrt(6*(2*J+1))\n",
    "\n",
    "coefVal = float(coef_fs(j_a,j_b,j,ell,L,S,s_a,s_b,Lambda, Sigma, Omega,p,J))\n",
    "predictVal = np.sqrt(1/3)\n",
    "print(math.isclose(coefVal,predictVal), coefVal,predictVal)\n",
    "\n",
    "j = 1\n",
    "predictVal = 0\n",
    "coefVal = float(coef_fs(j_a,j_b,j,ell,L,S,s_a,s_b,Lambda, Sigma, Omega,p,J))\n",
    "print(math.isclose(coefVal,predictVal), coefVal,predictVal)\n",
    "\n",
    "j_b = 3/2\n",
    "predictVal = 0\n",
    "coefVal = float(coef_fs(j_a,j_b,j,ell,L,S,s_a,s_b,Lambda, Sigma, Omega,p,J))\n",
    "print(math.isclose(coefVal,predictVal), coefVal,predictVal)\n",
    "\n",
    "ell = J-2\n",
    "j = 2\n",
    "predictVal = np.sqrt(J*(J-1)/(4*J**2-1))\n",
    "coefVal = float(coef_fs(j_a,j_b,j,ell,L,S,s_a,s_b,Lambda, Sigma, Omega,p,J))\n",
    "print(math.isclose(coefVal,predictVal), coefVal,predictVal)\n",
    "\n",
    "ell = J\n",
    "predictVal = -np.sqrt((2*J*(J+1))/(3*C))\n",
    "coefVal = float(coef_fs(j_a,j_b,j,ell,L,S,s_a,s_b,Lambda, Sigma, Omega,p,J))\n",
    "print(math.isclose(coefVal,predictVal), coefVal,predictVal)\n",
    "\n",
    "ell = J+2\n",
    "predictVal = np.sqrt(((J+2)*(J+1))/D)\n",
    "coefVal = float(coef_fs(j_a,j_b,j,ell,L,S,s_a,s_b,Lambda, Sigma, Omega,p,J))\n",
    "print(math.isclose(coefVal,predictVal), coefVal,predictVal)"
   ]
  },
  {
   "cell_type": "markdown",
   "metadata": {
    "heading_collapsed": "true",
    "tags": []
   },
   "source": [
    "#### second column"
   ]
  },
  {
   "cell_type": "code",
   "execution_count": 16,
   "metadata": {},
   "outputs": [
    {
     "name": "stdout",
     "output_type": "stream",
     "text": [
      "True -0.816496580927726 -0.816496580927726\n",
      "True 0.0 0\n",
      "True 0.0 0\n",
      "True 0.34723790501531626 0.3472379050153163\n",
      "True -0.28880854373754017 -0.2888085437375402\n",
      "True 0.3596509359338702 0.35965093593387026\n"
     ]
    }
   ],
   "source": [
    "J=28\n",
    "ell = J\n",
    "s_a = s_b = j_a = j_b = 1/2\n",
    "L = 1\n",
    "j = 0\n",
    "\n",
    "S = 1\n",
    "Lambda = 1\n",
    "Omega = 0\n",
    "\n",
    "Sigma = Omega - Lambda\n",
    "C = (2*J+3)*(2*J-1)\n",
    "D = (2*J+3)*(2*J+1)\n",
    "p = 0 if (-1)**(J+1)>0 else 1\n",
    "#p = -1\n",
    "\n",
    "N = 1/np.sqrt(6*(2*J+1))\n",
    "\n",
    "coefVal = float(coef_fs(j_a,j_b,j,ell,L,S,s_a,s_b,Lambda, Sigma, Omega,p,J))\n",
    "predictVal = -np.sqrt(2/3)\n",
    "print(math.isclose(coefVal,predictVal), coefVal,predictVal)\n",
    "\n",
    "j = 1\n",
    "predictVal = 0\n",
    "coefVal = float(coef_fs(j_a,j_b,j,ell,L,S,s_a,s_b,Lambda, Sigma, Omega,p,J))\n",
    "print(math.isclose(coefVal,predictVal), coefVal,predictVal)\n",
    "\n",
    "j_b = 3/2\n",
    "predictVal = 0\n",
    "coefVal = float(coef_fs(j_a,j_b,j,ell,L,S,s_a,s_b,Lambda, Sigma, Omega,p,J))\n",
    "print(math.isclose(coefVal,predictVal), coefVal,predictVal)\n",
    "\n",
    "ell = J-2\n",
    "j = 2\n",
    "predictVal = np.sqrt(J*(J-1)/(2*(4*J**2-1)))\n",
    "coefVal = float(coef_fs(j_a,j_b,j,ell,L,S,s_a,s_b,Lambda, Sigma, Omega,p,J))\n",
    "print(math.isclose(coefVal,predictVal), coefVal,predictVal)\n",
    "\n",
    "ell = J\n",
    "predictVal = -np.sqrt((J*(J+1))/(3*C))\n",
    "coefVal = float(coef_fs(j_a,j_b,j,ell,L,S,s_a,s_b,Lambda, Sigma, Omega,p,J))\n",
    "print(math.isclose(coefVal,predictVal), coefVal,predictVal)\n",
    "\n",
    "ell = J+2\n",
    "predictVal = np.sqrt(((J+2)*(J+1))/(2*D))\n",
    "coefVal = float(coef_fs(j_a,j_b,j,ell,L,S,s_a,s_b,Lambda, Sigma, Omega,p,J))\n",
    "print(math.isclose(coefVal,predictVal), coefVal,predictVal)"
   ]
  },
  {
   "cell_type": "markdown",
   "metadata": {
    "heading_collapsed": "true",
    "tags": []
   },
   "source": [
    "#### 3rd column"
   ]
  },
  {
   "cell_type": "code",
   "execution_count": 17,
   "metadata": {},
   "outputs": [
    {
     "name": "stdout",
     "output_type": "stream",
     "text": [
      "True 0.0 0\n",
      "False -0.5773502691896257 0.5773502691896258\n",
      "False -0.816496580927726 0.816496580927726\n",
      "True 0.0 0\n",
      "True 0.0 0\n",
      "True 0.0 0\n"
     ]
    }
   ],
   "source": [
    "J=4\n",
    "ell = J\n",
    "s_a = s_b = j_a = j_b = 1/2\n",
    "L = 1\n",
    "j = 0\n",
    "\n",
    "S = 0\n",
    "Lambda = 1\n",
    "Omega = 1\n",
    "\n",
    "Sigma = Omega - Lambda\n",
    "C = (2*J+3)*(2*J-1)\n",
    "D = (2*J+3)*(2*J+1)\n",
    "p = 0 if (-1)**(J+1)>0 else 1\n",
    "#p = -1\n",
    "\n",
    "coefVal = float(coef_fs(j_a,j_b,j,ell,L,S,s_a,s_b,Lambda, Sigma, Omega,p,J))\n",
    "predictVal = 0\n",
    "print(math.isclose(coefVal,predictVal), coefVal,predictVal)\n",
    "\n",
    "j = 1\n",
    "predictVal = (-1)**J/np.sqrt(3)\n",
    "coefVal = float(coef_fs(j_a,j_b,j,ell,L,S,s_a,s_b,Lambda, Sigma, Omega,p,J))\n",
    "print(math.isclose(coefVal,predictVal), coefVal,predictVal)\n",
    "\n",
    "j_b = 3/2\n",
    "predictVal = (-1)**J*np.sqrt(2/3)\n",
    "coefVal = float(coef_fs(j_a,j_b,j,ell,L,S,s_a,s_b,Lambda, Sigma, Omega,p,J))\n",
    "print(math.isclose(coefVal,predictVal), coefVal,predictVal)\n",
    "\n",
    "ell = J-2\n",
    "j = 2\n",
    "predictVal = 0\n",
    "coefVal = float(coef_fs(j_a,j_b,j,ell,L,S,s_a,s_b,Lambda, Sigma, Omega,p,J))\n",
    "print(math.isclose(coefVal,predictVal), coefVal,predictVal)\n",
    "\n",
    "ell = J\n",
    "predictVal = 0\n",
    "coefVal = float(coef_fs(j_a,j_b,j,ell,L,S,s_a,s_b,Lambda, Sigma, Omega,p,J))\n",
    "print(math.isclose(coefVal,predictVal), coefVal,predictVal)\n",
    "\n",
    "ell = J+2\n",
    "predictVal = 0\n",
    "coefVal = float(coef_fs(j_a,j_b,j,ell,L,S,s_a,s_b,Lambda, Sigma, Omega,p,J))\n",
    "print(math.isclose(coefVal,predictVal), coefVal,predictVal)"
   ]
  },
  {
   "cell_type": "markdown",
   "metadata": {
    "heading_collapsed": "true",
    "tags": []
   },
   "source": [
    "#### 4th"
   ]
  },
  {
   "cell_type": "code",
   "execution_count": 18,
   "metadata": {},
   "outputs": [
    {
     "name": "stdout",
     "output_type": "stream",
     "text": [
      "True 0.0 0\n",
      "False -0.5773502691896257 0.5773502691896258\n",
      "True -0.408248290463863 -0.408248290463863\n",
      "False 0.47809144373375745 0.4140393356054125\n",
      "True -0.18257418583505536 -0.18257418583505536\n",
      "True -0.4879500364742666 -0.4879500364742666\n"
     ]
    }
   ],
   "source": [
    "J=3\n",
    "ell = J\n",
    "s_a = s_b = j_a = j_b = 1/2\n",
    "L = 1\n",
    "j = 0\n",
    "\n",
    "S = 1\n",
    "Lambda = 0\n",
    "Omega = 1\n",
    "\n",
    "Sigma = Omega - Lambda\n",
    "C = (2*J+3)*(2*J-1)\n",
    "D = (2*J+3)*(2*J+1)\n",
    "p = 0 if (-1)**(J+1)>0 else 1\n",
    "#p = -1\n",
    "\n",
    "coefVal = float(coef_fs(j_a,j_b,j,ell,L,S,s_a,s_b,Lambda, Sigma, Omega,p,J))\n",
    "predictVal = 0\n",
    "print(math.isclose(coefVal,predictVal, rel_tol=1e-7), coefVal,predictVal)\n",
    "\n",
    "j = 1\n",
    "predictVal = -(-1)**J/np.sqrt(3)\n",
    "coefVal = -float(coef_fs(j_a,j_b,j,ell,L,S,s_a,s_b,Lambda, Sigma, Omega,p,J))\n",
    "print(math.isclose(coefVal,predictVal, rel_tol=1e-7), coefVal,predictVal)\n",
    "\n",
    "j_b = 3/2\n",
    "predictVal = (-1)**J*np.sqrt(1/6)\n",
    "coefVal = float(coef_fs(j_a,j_b,j,ell,L,S,s_a,s_b,Lambda, Sigma, Omega,p,J))\n",
    "print(math.isclose(coefVal,predictVal, rel_tol=1e-7), coefVal,predictVal)\n",
    "\n",
    "ell = J-2\n",
    "j = 2\n",
    "predictVal = (J*(J-1)/(4*J**2-1))**(1/2)\n",
    "#predictVal = np.sqrt(J*(J-1)/((2*J-1)*(2*J+1)))\n",
    "coefVal = float(coef_fs(j_a,j_b,j,ell,L,S,s_a,s_b,Lambda, Sigma, Omega,p,J))\n",
    "print(math.isclose(coefVal,predictVal, rel_tol=1e-7), coefVal,predictVal)\n",
    "\n",
    "ell = J\n",
    "predictVal = -np.sqrt(3/(2*C))\n",
    "coefVal = float(coef_fs(j_a,j_b,j,ell,L,S,s_a,s_b,Lambda, Sigma, Omega,p,J))\n",
    "print(math.isclose(coefVal,predictVal, rel_tol=1e-7), coefVal,predictVal)\n",
    "\n",
    "ell = J+2\n",
    "predictVal = -np.sqrt(J*(J+2)/D)\n",
    "coefVal = float(coef_fs(j_a,j_b,j,ell,L,S,s_a,s_b,Lambda, Sigma, Omega,p,J))\n",
    "\n",
    "print(math.isclose(coefVal,predictVal, rel_tol=1e-7), coefVal,predictVal)"
   ]
  },
  {
   "cell_type": "markdown",
   "metadata": {
    "heading_collapsed": "true",
    "tags": []
   },
   "source": [
    "#### 5th"
   ]
  },
  {
   "cell_type": "code",
   "execution_count": 19,
   "metadata": {},
   "outputs": [
    {
     "name": "stdout",
     "output_type": "stream",
     "text": [
      "True 0.0 0\n",
      "True 0.5773502691896257 0.5773502691896258\n",
      "False 0.408248290463863 -0.408248290463863\n",
      "False 0.447213595499958 0.3651483716701107\n",
      "True -0.2672612419124244 -0.2672612419124244\n",
      "True -0.47809144373375745 -0.47809144373375745\n"
     ]
    }
   ],
   "source": [
    "J=2\n",
    "ell = J\n",
    "s_a = s_b = j_a = j_b = 1/2\n",
    "L = 1\n",
    "j = 0\n",
    "\n",
    "S = 1\n",
    "Lambda = 1\n",
    "Omega = 1\n",
    "\n",
    "Sigma = Omega - Lambda\n",
    "C = (2*J+3)*(2*J-1)\n",
    "D = (2*J+3)*(2*J+1)\n",
    "p = 0 if (-1)**(J+1)>0 else 1\n",
    "#p = -1\n",
    "\n",
    "coefVal = float(coef_fs(j_a,j_b,j,ell,L,S,s_a,s_b,Lambda, Sigma, Omega,p,J))\n",
    "predictVal = 0\n",
    "print(math.isclose(coefVal,predictVal, rel_tol=1e-7), coefVal,predictVal)\n",
    "\n",
    "j = 1\n",
    "predictVal = (-1)**J/np.sqrt(3)\n",
    "coefVal = -float(coef_fs(j_a,j_b,j,ell,L,S,s_a,s_b,Lambda, Sigma, Omega,p,J))\n",
    "print(math.isclose(coefVal,predictVal, rel_tol=1e-7), coefVal,predictVal)\n",
    "\n",
    "j_b = 3/2\n",
    "predictVal = -(-1)**J*np.sqrt(1/6)\n",
    "coefVal = float(coef_fs(j_a,j_b,j,ell,L,S,s_a,s_b,Lambda, Sigma, Omega,p,J))\n",
    "print(math.isclose(coefVal,predictVal, rel_tol=1e-7), coefVal,predictVal)\n",
    "\n",
    "ell = J-2\n",
    "j = 2\n",
    "predictVal = np.sqrt(J*(J-1)/(4*J**2-1))\n",
    "coefVal = float(coef_fs(j_a,j_b,j,ell,L,S,s_a,s_b,Lambda, Sigma, Omega,p,J))\n",
    "print(math.isclose(coefVal,predictVal, rel_tol=1e-7), coefVal,predictVal)\n",
    "\n",
    "ell = J\n",
    "predictVal = -np.sqrt(3/(2*C))\n",
    "coefVal = float(coef_fs(j_a,j_b,j,ell,L,S,s_a,s_b,Lambda, Sigma, Omega,p,J))\n",
    "print(math.isclose(coefVal,predictVal, rel_tol=1e-7), coefVal,predictVal)\n",
    "\n",
    "ell = J+2\n",
    "predictVal = -np.sqrt(J*(J+2)/D)\n",
    "coefVal = float(coef_fs(j_a,j_b,j,ell,L,S,s_a,s_b,Lambda, Sigma, Omega,p,J))\n",
    "\n",
    "print(math.isclose(coefVal,predictVal, rel_tol=1e-7), coefVal,predictVal)"
   ]
  },
  {
   "cell_type": "markdown",
   "metadata": {
    "heading_collapsed": "true",
    "tags": []
   },
   "source": [
    "#### 6th"
   ]
  },
  {
   "cell_type": "code",
   "execution_count": 20,
   "metadata": {},
   "outputs": [
    {
     "name": "stdout",
     "output_type": "stream",
     "text": [
      "True 0.0 0\n",
      "True -0.0 0\n",
      "True 0.0 0\n",
      "True 0.36915463698711004 0.36915463698711004\n",
      "True 0.8655701520031057 0.8655701520031059\n",
      "True 0.33839794023048536 0.33839794023048536\n"
     ]
    }
   ],
   "source": [
    "J=34\n",
    "ell = J\n",
    "s_a = s_b = j_a = j_b = 1/2\n",
    "L = 1\n",
    "j = 0\n",
    "\n",
    "S = 1\n",
    "Lambda = 1\n",
    "Omega = 2\n",
    "\n",
    "Sigma = Omega - Lambda\n",
    "C = (2*J+3)*(2*J-1)\n",
    "D = (2*J+3)*(2*J+1)\n",
    "p = 1 if (-1)**J>0 else 0\n",
    "#p = -1\n",
    "\n",
    "coefVal = float(coef_fs(j_a,j_b,j,ell,L,S,s_a,s_b,Lambda, Sigma, Omega,p,J))\n",
    "predictVal = 0\n",
    "print(math.isclose(coefVal,predictVal, rel_tol=1e-7), coefVal,predictVal)\n",
    "\n",
    "j = 1\n",
    "predictVal = 0\n",
    "coefVal = -float(coef_fs(j_a,j_b,j,ell,L,S,s_a,s_b,Lambda, Sigma, Omega,p,J))\n",
    "print(math.isclose(coefVal,predictVal, rel_tol=1e-7), coefVal,predictVal)\n",
    "\n",
    "j_b = 3/2\n",
    "predictVal = 0\n",
    "coefVal = float(coef_fs(j_a,j_b,j,ell,L,S,s_a,s_b,Lambda, Sigma, Omega,p,J))\n",
    "print(math.isclose(coefVal,predictVal, rel_tol=1e-7), coefVal,predictVal)\n",
    "\n",
    "ell = J-2\n",
    "j = 2\n",
    "predictVal = np.sqrt((J+1)*(J+2)/(2*(4*J**2-1)))\n",
    "coefVal = float(coef_fs(j_a,j_b,j,ell,L,S,s_a,s_b,Lambda, Sigma, Omega,p,J))\n",
    "print(math.isclose(coefVal,predictVal, rel_tol=1e-7), coefVal,predictVal)\n",
    "\n",
    "ell = J\n",
    "predictVal = np.sqrt((3*(J-1)*(J+2)/C))\n",
    "coefVal = float(coef_fs(j_a,j_b,j,ell,L,S,s_a,s_b,Lambda, Sigma, Omega,p,J))\n",
    "print(math.isclose(coefVal,predictVal, rel_tol=1e-7), coefVal,predictVal)\n",
    "\n",
    "ell = J+2\n",
    "predictVal = np.sqrt(J*(J-1)/(2*D))\n",
    "coefVal = float(coef_fs(j_a,j_b,j,ell,L,S,s_a,s_b,Lambda, Sigma, Omega,p,J))\n",
    "\n",
    "print(math.isclose(coefVal,predictVal, rel_tol=1e-7), coefVal,predictVal)"
   ]
  },
  {
   "cell_type": "code",
   "execution_count": null,
   "metadata": {},
   "outputs": [],
   "source": []
  },
  {
   "cell_type": "code",
   "execution_count": null,
   "metadata": {},
   "outputs": [],
   "source": []
  },
  {
   "cell_type": "markdown",
   "metadata": {},
   "source": [
    "# Hyperfine Structure"
   ]
  },
  {
   "cell_type": "code",
   "execution_count": null,
   "metadata": {},
   "outputs": [],
   "source": []
  },
  {
   "cell_type": "code",
   "execution_count": null,
   "metadata": {},
   "outputs": [],
   "source": []
  }
 ],
 "metadata": {
  "kernelspec": {
   "display_name": "Python 3",
   "language": "python",
   "name": "python3"
  },
  "language_info": {
   "codemirror_mode": {
    "name": "ipython",
    "version": 3
   },
   "file_extension": ".py",
   "mimetype": "text/x-python",
   "name": "python",
   "nbconvert_exporter": "python",
   "pygments_lexer": "ipython3",
   "version": "3.9.5"
  }
 },
 "nbformat": 4,
 "nbformat_minor": 4
}

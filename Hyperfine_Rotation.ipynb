{
 "cells": [
  {
   "cell_type": "markdown",
   "id": "af763860-93eb-4bbb-954c-aba78052e8b6",
   "metadata": {},
   "source": [
    "# Hyperfine Rotation Calculatino"
   ]
  },
  {
   "cell_type": "markdown",
   "id": "3b968386-d2b6-43e6-bce1-2db49131ef56",
   "metadata": {},
   "source": [
    "Its time to begin!"
   ]
  },
  {
   "cell_type": "markdown",
   "id": "5bf12d31-1bfe-4b8b-afe5-3974fcba116a",
   "metadata": {},
   "source": [
    "## The etoa matrix coefficient"
   ]
  },
  {
   "cell_type": "markdown",
   "id": "015568ea-a25c-4103-be31-cbe42eb0385b",
   "metadata": {},
   "source": [
    "I've already derived this, but done fairly little to test it or implement it I think."
   ]
  },
  {
   "cell_type": "code",
   "execution_count": 2,
   "id": "27a2636f-f972-45bd-843b-4a41c9cf18b8",
   "metadata": {},
   "outputs": [],
   "source": [
    "import numpy as np\n",
    "from sympy.physics.wigner import wigner_9j\n",
    "from sympy.physics.quantum.cg import CG"
   ]
  },
  {
   "cell_type": "code",
   "execution_count": 3,
   "id": "e9ff7bfe-1dee-4540-aeed-b2167138d1a0",
   "metadata": {},
   "outputs": [],
   "source": [
    "import MoleculeCalculation as mol"
   ]
  },
  {
   "cell_type": "markdown",
   "id": "dcf494e3-25aa-49c8-8ed5-f326e3e5329b",
   "metadata": {},
   "source": [
    "For fine structure rotation we had\n",
    "$$\n",
    "\\langle j \\Omega j_a j_b | L \\Lambda L_a L_b; S \\Sigma S_a S_b \\rangle = \\sqrt{\\breve{S}\\breve{j_a}\\breve{j_b}\\breve{L}} C^{j\\Omega}_{LS\\Lambda\\Sigma} \\begin{Bmatrix}\n",
    "L_a & S_a & j_a\\\\\n",
    "L_b & S_b & j_b\\\\\n",
    "L & S & j\n",
    "\\end{Bmatrix}\n",
    "$$"
   ]
  },
  {
   "cell_type": "markdown",
   "id": "78980332-dbff-4fa5-a601-a0e2fc48c8fd",
   "metadata": {},
   "source": [
    "With hyperfine, we have:"
   ]
  },
  {
   "cell_type": "markdown",
   "id": "4b1f9536-fadc-4007-840e-f6efd77417c6",
   "metadata": {},
   "source": [
    "$$\n",
    "\\langle j \\Omega j_a j_b | L \\Lambda L_a L_b; S \\Sigma S_a S_b \\rangle = \\sqrt{\\breve{S}\\breve{j_a}\\breve{j_b}\\breve{L}} C^{j\\Omega}_{LS\\Lambda\\Sigma} \\begin{Bmatrix}\n",
    "L_a & S_a & j_a\\\\\n",
    "L_b & S_b & j_b\\\\\n",
    "L & S & j\n",
    "\\end{Bmatrix}\n",
    "$$"
   ]
  },
  {
   "cell_type": "markdown",
   "id": "27ea8e29-1735-4fd1-824e-f3ea62397cc0",
   "metadata": {},
   "source": [
    "$$\n",
    "\\langle f \\phi f_a f_b |L_a \\Lambda_a L_b \\Lambda_b S \\Sigma I \\iota\\rangle = \\sum_{L, j, j_a j_b} \n",
    "\\bigg(\n",
    "C^{L\\Lambda}_{l_a \\Lambda_a, l_b \\Lambda_b} \n",
    "C_{L\\Lambda S\\Sigma}^{j\\Omega} \n",
    "C_{j\\Omega I \\iota}^{f \\phi}\n",
    "\\bigg)\n",
    "\\sqrt{\\breve{j}_a\\breve{j}_b\\breve{f}_a\\breve{f}_b\n",
    "\\breve{L}\\breve{S}\\breve{J}\\breve{I}}\n",
    "\\begin{Bmatrix}\n",
    "l_a & s_a & j_a\\\\\n",
    "l_b & s_b & j_b\\\\\n",
    "L & S & j\n",
    "\\end{Bmatrix}\n",
    "\\begin{Bmatrix}\n",
    "j_a & i_a & f_a\\\\\n",
    "j_b & i_b & f_b\\\\\n",
    "j & I & f\n",
    "\\end{Bmatrix}\n",
    "$$"
   ]
  },
  {
   "cell_type": "markdown",
   "id": "f089c135-94fa-409f-8d70-f68b2cd63427",
   "metadata": {},
   "source": [
    "So I can test my coefficient function by summing over all of the lhs states:"
   ]
  },
  {
   "cell_type": "code",
   "execution_count": 4,
   "id": "5dda5fa2-24c4-4dd7-bc72-72b0f77f4350",
   "metadata": {},
   "outputs": [],
   "source": [
    "from IPython.display import display, Latex"
   ]
  },
  {
   "cell_type": "code",
   "execution_count": 5,
   "id": "b3affa90-64b6-4ee2-b596-4f7c2301ea9e",
   "metadata": {},
   "outputs": [],
   "source": [
    "import Miscellaneous as misc"
   ]
  },
  {
   "cell_type": "markdown",
   "id": "41fef50f-9ef4-470e-8cd9-83c794554acc",
   "metadata": {},
   "source": [
    "So I'm having trouble with the coefficient $\\langle 4,4,2,2|0,1,1,3,3\\rangle$ which my algorithm is claiming is the unphysical value -1.15. Clearly wrong, it's magnitude is larger than 1. So I'm going to manually decompose it to see what the true value should be and hopefully figure out the root of the problem. The strategy will be to convert both sides to $|l \\lambda s \\sigma i \\iota\\rangle_{a,b}$ states."
   ]
  },
  {
   "cell_type": "markdown",
   "id": "71a7818a-f2b8-4d74-90c5-4b4dfd9d9b10",
   "metadata": {},
   "source": [
    "This coefficient is of the form $\\langle f \\phi f_a f_b| l_a \\lambda_a l_b \\lambda_b S \\Sigma I \\iota\\rangle$ "
   ]
  },
  {
   "cell_type": "markdown",
   "id": "c830a218-76f8-4da5-992c-9a38a42c4224",
   "metadata": {},
   "source": [
    "So first I will decompose it to $\\langle f_a \\phi_a f_b \\phi_b|l \\lambda s \\sigma i \\iota\\rangle_{a,b}$. Thankfully the first step here is trivial for the chosen state"
   ]
  },
  {
   "cell_type": "markdown",
   "id": "e9de9d59-0ceb-46ce-89d2-34793c12a8cb",
   "metadata": {},
   "source": [
    "$\\langle 4,4,2,2|0,1,1,3,3\\rangle=\\langle 2,2| \\langle 2,2| \n",
    "|0,0,\\frac{1}{2},\\frac{1}{2},\\frac{3}{2},\\frac{3}{2}\\rangle|1,0,\\frac{1}{2},\\frac{1}{2},\\frac{3}{2},\\frac{3}{2}\\rangle$"
   ]
  },
  {
   "cell_type": "markdown",
   "id": "c7868c19-5152-458a-90f5-e3fc324838c3",
   "metadata": {},
   "source": [
    "Then I do the standard decomposition $\\langle f_a \\phi_a|\\rightarrow\\langle j_a,\\omega_a,i_a,\\iota_a|$"
   ]
  },
  {
   "cell_type": "markdown",
   "id": "319f914e-fa6b-4dab-b6ab-25da8429701d",
   "metadata": {},
   "source": [
    "$$\n",
    "\\bigg(\\big\\langle\\frac{1}{2}\\frac{1}{2} \\frac{3}{2} \\frac{3}{2} \\big|\\bigg)\n",
    "\\bigg(C_{\\frac{3}{2}\\frac{3}{2}\\frac{ 3}{2 }\\frac{1}{2}}^{2,2} \\langle \\frac{3}{2} \\frac{3}{2} \\frac{3}{2} \\frac{1}{2}|\n",
    "+C_{\\frac{3}{2}\\frac{1}{2}\\frac{ 3}{2 }\\frac{3}{2}}^{2,2}\\langle\\frac{3}{2} \\frac{1}{2} \\frac{3}{2}\\frac{3}{2} |\\bigg)\n",
    "$$"
   ]
  },
  {
   "cell_type": "code",
   "execution_count": 6,
   "id": "b5d65c55-5cb9-43a8-a454-efe4faa2f57a",
   "metadata": {},
   "outputs": [
    {
     "data": {
      "text/latex": [
       "$\\displaystyle 1$"
      ],
      "text/plain": [
       "1"
      ]
     },
     "execution_count": 6,
     "metadata": {},
     "output_type": "execute_result"
    }
   ],
   "source": [
    "CG(3/2,3/2,3/2,1/2,2,2).doit()**2+CG(3/2,1/2,3/2,3/2,2,2).doit()**2"
   ]
  },
  {
   "cell_type": "markdown",
   "id": "73fbd17c-0028-4d4f-b7c3-faa174ef4b93",
   "metadata": {},
   "source": [
    "And finally taking $\\langle j_a \\omega_a i_a \\iota_a|\\rightarrow \\langle l_a \\lambda_a s_a \\sigma_a i_a \\iota_a|$"
   ]
  },
  {
   "cell_type": "markdown",
   "id": "c75b3953-3266-4bba-a268-ff6dc4c7ce36",
   "metadata": {},
   "source": [
    "$$\n",
    "\\bigg(\\big\\langle 00;\\frac{1}{2}\\frac{1}{2};\\frac{3}{2} \\frac{3}{2} \\big|\\bigg)\n",
    "\\bigg(C_{\\frac{3}{2}\\frac{3}{2}\\frac{3}{2}\\frac{1}{2}}^{2,2} \\langle 11;\\frac{1}{2}\\frac{1}{2};\\frac{3}{2} \\frac{1}{2}|\n",
    "+C_{\\frac{3}{2}\\frac{1}{2}\\frac{ 3}{2 }\\frac{3}{2}}^{2,2}\n",
    "(|\\rangle+|\\rangle)\\bigg)\n",
    "$$"
   ]
  },
  {
   "cell_type": "markdown",
   "id": "a8b8ebf4-2514-4c86-af71-a640ce494b48",
   "metadata": {},
   "source": [
    "$$\n",
    "\\bigg(\\big\\langle 00;\\frac{1}{2}\\frac{1}{2};\\frac{3}{2} \\frac{3}{2} \\big|\\bigg)\n",
    "\\bigg(C_{\\frac{3}{2}\\frac{3}{2}\\frac{3}{2}\\frac{1}{2}}^{2,2} \\langle 11;\\frac{1}{2}\\frac{1}{2};\\frac{3}{2} \\frac{1}{2}|\n",
    "+C_{\\frac{3}{2}\\frac{1}{2}\\frac{ 3}{2 }\\frac{3}{2}}^{2,2}\n",
    "(C_{11\\frac{1}{2},-\\frac{1}{2}}^{\\frac{3}{2}\\frac{1}{2}}\n",
    "\\langle1,1;\\frac{1}{2},-\\frac{1}{2};\\frac{3}{2}\\frac{3}{2}|\n",
    "+C_{10\\frac{1}{2}\\frac{1}{2}}^{\\frac{3}{2}\\frac{1}{2}}\n",
    "\\langle1,0;\\frac{1}{2},\\frac{1}{2};\\frac{3}{2}\\frac{3}{2}|)\\bigg)\n",
    "$$"
   ]
  },
  {
   "cell_type": "code",
   "execution_count": 7,
   "id": "4bf3579b-030f-4271-926d-4cc8fd755b24",
   "metadata": {},
   "outputs": [
    {
     "data": {
      "text/latex": [
       "$\\displaystyle 1.0$"
      ],
      "text/plain": [
       "1.00000000000000"
      ]
     },
     "execution_count": 7,
     "metadata": {},
     "output_type": "execute_result"
    }
   ],
   "source": [
    "CG(1,1,1/2,-1/2,3/2,1/2).doit()**2+CG(1,0,1/2,1/2,3/2,1/2).doit()**2"
   ]
  },
  {
   "cell_type": "markdown",
   "id": "87a7f7e5-8b3f-4d9e-9e2b-45840359ae24",
   "metadata": {},
   "source": [
    "And so the result is"
   ]
  },
  {
   "cell_type": "markdown",
   "id": "21d7eb73-910d-4b0f-8b09-2ca3d1704a38",
   "metadata": {},
   "source": [
    "$$\n",
    "\\big\\langle 00;\\frac{1}{2}\\frac{1}{2};\\frac{3}{2} \\frac{3}{2} \\big|\\\\\n",
    "\\bigg(C_{\\frac{3}{2}\\frac{3}{2}\\frac{3}{2}\\frac{1}{2}}^{2,2} \\langle 11;\\frac{1}{2}\\frac{1}{2};\\frac{3}{2} \\frac{1}{2}|\n",
    "+C_{\\frac{3}{2}\\frac{1}{2}\\frac{ 3}{2 }\\frac{3}{2}}^{2,2}\n",
    "(C_{11\\frac{1}{2},-\\frac{1}{2}}^{\\frac{3}{2}\\frac{1}{2}}\n",
    "\\langle1,1;\\frac{1}{2},-\\frac{1}{2};\\frac{3}{2}\\frac{3}{2}|\n",
    "+C_{10\\frac{1}{2}\\frac{1}{2}}^{\\frac{3}{2}\\frac{1}{2}}\n",
    "\\langle1,0;\\frac{1}{2},\\frac{1}{2};\\frac{3}{2}\\frac{3}{2}|)\\bigg)\n",
    "|0,0,\\frac{1}{2},\\frac{1}{2},\\frac{3}{2},\\frac{3}{2}\\rangle|1,0,\\frac{1}{2},\\frac{1}{2},\\frac{3}{2},\\frac{3}{2}\\rangle\n",
    "$$"
   ]
  },
  {
   "cell_type": "markdown",
   "id": "cdcc9885-52e5-47d0-8194-041b2116eaa0",
   "metadata": {},
   "source": [
    "can quickly eliminate the unexcited atom:"
   ]
  },
  {
   "cell_type": "markdown",
   "id": "9cc69813-0517-479b-9fcc-80ef0e0ceefe",
   "metadata": {},
   "source": [
    "$$\n",
    "\\bigg(C_{\\frac{3}{2}\\frac{3}{2}\\frac{3}{2}\\frac{1}{2}}^{2,2} \\langle 11;\\frac{1}{2}\\frac{1}{2};\\frac{3}{2} \\frac{1}{2}|\n",
    "+C_{\\frac{3}{2}\\frac{1}{2}\\frac{ 3}{2 }\\frac{3}{2}}^{2,2}\n",
    "(C_{11\\frac{1}{2},-\\frac{1}{2}}^{\\frac{3}{2}\\frac{1}{2}}\n",
    "\\langle1,1;\\frac{1}{2},-\\frac{1}{2};\\frac{3}{2}\\frac{3}{2}|\n",
    "+C_{10\\frac{1}{2}\\frac{1}{2}}^{\\frac{3}{2}\\frac{1}{2}}\n",
    "\\langle1,0;\\frac{1}{2},\\frac{1}{2};\\frac{3}{2}\\frac{3}{2}|)\\bigg)\n",
    "|1,0,\\frac{1}{2},\\frac{1}{2},\\frac{3}{2},\\frac{3}{2}\\rangle\n",
    "$$"
   ]
  },
  {
   "cell_type": "markdown",
   "id": "3605146e-1487-47a5-8b19-accdd6ae2e6f",
   "metadata": {},
   "source": [
    "so the result is just one of these pairs:"
   ]
  },
  {
   "cell_type": "markdown",
   "id": "7f336307-5e86-497a-ab57-53ea0f6f5467",
   "metadata": {},
   "source": [
    "$$\n",
    "C_{\\frac{3}{2}\\frac{1}{2}\\frac{ 3}{2 }\\frac{3}{2}}^{2,2}C_{10\\frac{1}{2}\\frac{1}{2}}^{\\frac{3}{2}\\frac{1}{2}}\n",
    "$$"
   ]
  },
  {
   "cell_type": "code",
   "execution_count": 8,
   "id": "f0611323-2d05-4429-a816-125c0e42bb6f",
   "metadata": {},
   "outputs": [
    {
     "data": {
      "text/plain": [
       "-0.5773502691896257"
      ]
     },
     "execution_count": 8,
     "metadata": {},
     "output_type": "execute_result"
    }
   ],
   "source": [
    "float(CG(3/2,1/2,3/2,3/2,2,2).doit()*CG(1,0,1/2,1/2,3/2,1/2).doit())"
   ]
  },
  {
   "cell_type": "markdown",
   "id": "17804aa7-35b0-48bc-ad10-66d25b9cfeff",
   "metadata": {},
   "source": [
    "Okay. now I know what the answer should be, but why is my algorithm not giving me this lol"
   ]
  },
  {
   "cell_type": "code",
   "execution_count": 179,
   "id": "526b527f-efba-4bc9-9555-09fbf2917afb",
   "metadata": {},
   "outputs": [],
   "source": [
    "def subcoef_HFS_2(f_a, f_b, f_, phi_, j_a, j_b,\n",
    "                S_,Sigma_,\n",
    "                I_,iota_,\n",
    "                Lambda_,\n",
    "                Omega_,\n",
    "                checks=False,\n",
    "                verbose=False):\n",
    "    def br(x):\n",
    "        return 2*x+1\n",
    "    val = 0\n",
    "    L_=1\n",
    "    l_a=0\n",
    "    l_b=1    \n",
    "    lambda_a=0\n",
    "    lambda_b=Lambda_\n",
    "    s_a=s_b=1/2\n",
    "    i_a = i_b = 3/2\n",
    "    if checks:\n",
    "        if phi_ != iota_+Omega_:\n",
    "            raise ValueError('Bad phi,iota,omega:',phi_,iota_,Omega_)\n",
    "        if Omega_ != Sigma_+Lambda_:\n",
    "            raise ValueError('Bad Omega,Sigma,Lambda:',Omega_,Sigma_,Lambda_)\n",
    "        if I_ not in np.arange(abs(i_a-i_b), i_a+i_b+1,1):\n",
    "            raise ValueError('Bad values: I,i_a,i_b='+str(I_)+','+str(i_a)+','+str(i_b))\n",
    "        if f_ not in np.arange(abs(f_a-f_b), f_a+f_b+1,1):\n",
    "            raise ValueError('Bad values: f,f_a,f_b='+str(f_)+','+str(f_a)+','+str(f_b))\n",
    "        if abs(Sigma_)>S_:\n",
    "            raise ValueError('Bad values: S,Sigma='+str(S_)+','+str(Sigma_))\n",
    "        #assert(abs(Lambda_)<=L_)\n",
    "    for j_ in np.arange( abs(j_a-j_b), j_a+j_b+1, 1):\n",
    "        c2 = float(CG(1,Lambda_,S_,Sigma_,j_,Omega_).doit())\n",
    "        c3 = float(CG(I_,iota_,j_,Omega_,f_,phi_).doit())\n",
    "        coefs = c2*c3\n",
    "        rec1 = recoupling(j_,j_a,j_b,L_,S_,l_a,s_a,l_b,s_b)\n",
    "        rec2 = recoupling(f_,f_a,f_b,j_,I_,j_a,i_a,j_b,i_b)\n",
    "        term = coefs * rec1*rec2\n",
    "        if verbose:\n",
    "            print(term)\n",
    "        val += term\n",
    "    return val"
   ]
  },
  {
   "cell_type": "code",
   "execution_count": 183,
   "id": "e1632221-0f51-49be-a0ab-ddfa044a8b44",
   "metadata": {},
   "outputs": [],
   "source": [
    "def recoupling(j,j_12,j_34,j_13,j_24,j_1,j_2,j_3,j_4):\n",
    "    # caluculates <j,m_j,j_12,j_34|j,m_j,j_13,j_24>.\n",
    "    def br(x):\n",
    "        return 2*x+1\n",
    "    brs = np.sqrt(br(j_12)*br(j_34)*br(j_13)*br(j_24))\n",
    "    wigTerm = float(wigner_9j_with_table(j_1,j_2,j_12,j_3,j_4,j_34,j_13,j_24,j))\n",
    "    return brs*wigTerm"
   ]
  },
  {
   "cell_type": "code",
   "execution_count": 228,
   "id": "de508bd8-6735-49f3-bd9d-e55fd86aee74",
   "metadata": {},
   "outputs": [],
   "source": [
    "def subcoef_HFS_3(f_a, f_b, f_, phi_, j_a, j_b,\n",
    "                S_,Sigma_,\n",
    "                I_,iota_,\n",
    "                Lambda_,\n",
    "                Omega_,\n",
    "                checks=False,\n",
    "                verbose=False):\n",
    "    # with table acceleration for both cg and wigner 9j calculations, and using \"recoupling\" function to organize parts of calc.\n",
    "    def br(x):\n",
    "        return 2*x+1\n",
    "    val = 0\n",
    "    L_=1\n",
    "    l_a=0\n",
    "    l_b=1    \n",
    "    lambda_a=0\n",
    "    lambda_b=Lambda_\n",
    "    s_a=s_b=1/2\n",
    "    i_a = i_b = 3/2\n",
    "    for j_ in np.arange( abs(j_a-j_b), j_a+j_b+1, 1):\n",
    "        c2 = CG_with_table(1,Lambda_,S_,Sigma_,j_,Omega_)\n",
    "        c3 = CG_with_table(I_,iota_,j_,Omega_,f_,phi_)\n",
    "        coefs = c2*c3\n",
    "        rec1 = recoupling(j_,j_a,j_b,L_,S_,l_a,s_a,l_b,s_b)\n",
    "        rec2 = recoupling(f_,f_a,f_b,j_,I_,j_a,i_a,j_b,i_b)\n",
    "        term = coefs * rec1*rec2\n",
    "        if verbose:\n",
    "            print(term)\n",
    "        val += term\n",
    "    return val"
   ]
  },
  {
   "cell_type": "code",
   "execution_count": 229,
   "id": "fedac077-c40c-42a8-ade1-c5dd04dfb785",
   "metadata": {},
   "outputs": [
    {
     "name": "stdout",
     "output_type": "stream",
     "text": [
      "63.2 µs ± 6.44 µs per loop (mean ± std. dev. of 7 runs, 10000 loops each)\n"
     ]
    }
   ],
   "source": [
    "%%timeit\n",
    "val = subcoef_HFS_3( f_a,f_b,f_,phi,j_a, j_b,\n",
    "                     S_, Sigma, I_, iota, Lambda, Omega,\n",
    "                     False, False )"
   ]
  },
  {
   "attachments": {
    "297a938c-f1fd-4c1b-84a5-f8b617a3b932.png": {
     "image/png": "[encoded data removed]"
    }
   },
   "cell_type": "markdown",
   "id": "1ed98e7e-3d1f-4449-bd38-c80fc36da98a",
   "metadata": {},
   "source": [
    "![image.png](attachment:297a938c-f1fd-4c1b-84a5-f8b617a3b932.png)"
   ]
  },
  {
   "cell_type": "markdown",
   "id": "8d976914-2272-4478-972f-770de0f5cab1",
   "metadata": {},
   "source": [
    "### testing subcoef"
   ]
  },
  {
   "cell_type": "code",
   "execution_count": 231,
   "id": "ee51c12e-3c7b-4c36-b758-51bb4d7f8ba0",
   "metadata": {},
   "outputs": [],
   "source": [
    "wigner_9j_table = {}\n",
    "def wigner_9j_with_table(j1,j2,j3,j4,j5,j6,j7,j8,j9):\n",
    "    # the sympy calculation is slow, so I implemented this little table lookup function which is ~100X faster.\n",
    "    # it just saves the results and preferentially retrieves them from this dictionary rather than recalculate them.\n",
    "    vals = [j1,j2,j3,j4,j5,j6,j7,j8,j9]\n",
    "    indexStr = ''.join([str(x)+','for x in vals])\n",
    "    if indexStr not in wigner_9j_table:\n",
    "        wigner_9j_table[indexStr] = float(wigner_9j(*vals))\n",
    "    return wigner_9j_table[indexStr]"
   ]
  },
  {
   "cell_type": "code",
   "execution_count": 232,
   "id": "21de4529-d28b-4f60-905a-2d055a007402",
   "metadata": {},
   "outputs": [],
   "source": [
    "CG_table = {}\n",
    "def CG_with_table(j1, mj1, j2, mj2, j3, mj3):\n",
    "    vals = [j1, mj1, j2, mj2, j3, mj3]\n",
    "    indexStr = ''.join([str(x)+','for x in vals])\n",
    "    if indexStr not in CG_table:\n",
    "        CG_table[indexStr] = float(CG(*vals).doit())\n",
    "    return CG_table[indexStr]"
   ]
  },
  {
   "cell_type": "markdown",
   "id": "64b2110b-8392-41cf-aec3-70af2caaf4c6",
   "metadata": {},
   "source": [
    "### testing etoa matrix"
   ]
  },
  {
   "cell_type": "code",
   "execution_count": 188,
   "id": "1e376cb2-a905-4e1c-8450-c847225a0dda",
   "metadata": {},
   "outputs": [],
   "source": [
    "def createCaseE_BasisHfs(F_rel,verbose=False):\n",
    "    # for j and ell, J goes from J=j-ell or zero to J=j+ell\n",
    "    # given J and j, ell goes from ell=J+j to ell = J-j\n",
    "    # cases in this case_E do not have a good total angular momentum J=ell+j. For example, |j_a j_b j ell > = |1/2 1/2 1 1> couples to states\n",
    "    # of J = 2 (ell = J-1) and J = 0 (ell = j+1) to help read the table in the potassium paper. however, the way I am working with this I am segmenting my states by \n",
    "    # the case A basis which does have good J, so I only want the states that will couple to my case A basis.\n",
    "    caseE_BasisRef = []\n",
    "    j_a = 1/2\n",
    "    i_a = i_b = 3/2\n",
    "    for totalParity in [\"+\",\"-\"]:\n",
    "        for f_a in np.arange(abs(i_a - j_a), i_a + j_a+1,1):\n",
    "            for j_b in [1/2,3/2]:\n",
    "                for f_a in np.arange(abs(i_b - j_b), i_b + j_b+1,1):\n",
    "                    for f in np.arange(abs(f_a-f_b),f_a+f_b+1,1, dtype=float):\n",
    "                        for ell in np.arange(F_rel-f,F_rel+f+1,1, dtype=float):\n",
    "                            state = mol.multiplyableDict({\"f\": f, \n",
    "                                                          \"f_a\":f_a, 'j_a':j_a,'i_a':i_a,\n",
    "                                                          \"f_b\":f_b, 'j_b':j_b,'i_b':i_b,\n",
    "                                                          \"ell\":ell, \"totalParity\":totalParity})\n",
    "                            if state not in caseE_BasisRef:\n",
    "                                caseE_BasisRef.append(state)\n",
    "    return caseE_BasisRef"
   ]
  },
  {
   "cell_type": "code",
   "execution_count": 264,
   "id": "f003c851-7975-47b0-aef5-d468017a90aa",
   "metadata": {},
   "outputs": [],
   "source": [
    "def create_EtoA_Matrix_Hfs(caseA_Basis, caseE_Basis, verbose=False):\n",
    "    res = np.zeros((len(caseA_Basis), len(caseE_Basis)))\n",
    "    count=0\n",
    "    for extraQN in [-1]:\n",
    "        for aind, stateA in enumerate(caseA_Basis):\n",
    "            misc.loopProgress(count, len(caseA_Basis)*len(caseE_Basis))\n",
    "            for eind, stateE in enumerate(caseE_Basis):\n",
    "                if not checkValid(stateA, stateE):\n",
    "                    continue\n",
    "                res[aind, eind] = coef_hfs(stateA, stateE, stateA['F'])\n",
    "                print(stateA, stateE, res[aind, eind])\n",
    "                count += 1\n",
    "        print('')\n",
    "    return res"
   ]
  },
  {
   "cell_type": "code",
   "execution_count": 265,
   "id": "7777244b-4378-4c5a-bd47-d960185f9a5f",
   "metadata": {},
   "outputs": [],
   "source": [
    "def calcCoef(stateA,stateE, pv, verbose=False):\n",
    "    stateSignedSigma = stateA['|Omega|']-stateA['|Lambda|']\n",
    "    return coef_fs( stateE['ja'], stateE['jb'], stateE['j'], stateE['ell'], stateA[\"L\"], stateA[\"S\"], \n",
    "                    1/2, 1/2, stateA[\"|Lambda|\"], stateSignedSigma, stateA[\"|Omega|\"], pv, stateA[\"J\"],\n",
    "                    verbose=verbose )"
   ]
  },
  {
   "cell_type": "code",
   "execution_count": 269,
   "id": "889c9575-7f68-4651-ab4b-44489d6da068",
   "metadata": {},
   "outputs": [],
   "source": [
    "def checkValid(stateA, stateE):\n",
    "    f_a = stateE['f_a']\n",
    "    f_b = stateE['f_a']\n",
    "    f_ = stateE['f']\n",
    "    j_a = stateE['j_a']\n",
    "    j_b = stateE['j_b']\n",
    "    S_ = stateA['S']\n",
    "    phi_ = stateA['phi']\n",
    "    I_ = stateA['i']\n",
    "    iota_ = stateA['|iota|']\n",
    "    Lambda_ = stateA['|Lambda|']\n",
    "    Omega_ = phi_-iota_\n",
    "    Sigma_ = Omega_-Lambda_\n",
    "    ell = stateE['ell']\n",
    "    l_a = 0\n",
    "    l_b = 1\n",
    "    L_ = 1\n",
    "    p=0\n",
    "    if ell < 0:\n",
    "        return False\n",
    "    if phi_ != iota_+Omega_:\n",
    "        #raise ValueError('Bad phi,iota,omega:',phi_,iota_,Omega_)\n",
    "        return False\n",
    "    if Omega_ != Sigma_+Lambda_:\n",
    "        #raise ValueError('Bad Omega,Sigma,Lambda:',Omega_,Sigma_,Lambda_)\n",
    "        return False\n",
    "    if I_ not in np.arange(abs(i_a-i_b), i_a+i_b+1,1):\n",
    "        #raise ValueError('Bad values: I,i_a,i_b='+str(I_)+','+str(i_a)+','+str(i_b))\n",
    "        return False\n",
    "    if f_ not in np.arange(abs(f_a-f_b), f_a+f_b+1,1):\n",
    "        return False\n",
    "        #raise ValueError('Bad values: f,f_a,f_b='+str(f_)+','+str(f_a)+','+str(f_b))\n",
    "    if abs(Sigma_)>S_:\n",
    "        #raise ValueError('Bad values: S,Sigma='+str(S_)+','+str(Sigma_))\n",
    "        return False\n",
    "    return True"
   ]
  },
  {
   "cell_type": "code",
   "execution_count": 270,
   "id": "58ffc7e2-e8d0-4f10-8ba5-e731faf826f0",
   "metadata": {},
   "outputs": [],
   "source": [
    "def coef_hfs(stateA, stateE, F_):\n",
    "    f_a = stateE['f_a']\n",
    "    f_b = stateE['f_a']\n",
    "    f_ = stateE['f']\n",
    "    j_a = stateE['j_a']\n",
    "    j_b = stateE['j_b']\n",
    "    S_ = stateA['S']\n",
    "    phi_ = stateA['phi']\n",
    "    I_ = stateA['i']\n",
    "    iota_ = stateA['|iota|']\n",
    "    Lambda_ = stateA['|Lambda|']\n",
    "    Omega_ = phi_-iota_\n",
    "    Sigma_ = Omega_-Lambda_\n",
    "    ell = stateE['ell']\n",
    "    l_a = 0\n",
    "    l_b = 1\n",
    "    L_ = 1\n",
    "    p=0\n",
    "\n",
    "    phase = (-1)**(ell-phi-F_)\n",
    "    tDelta = 1 if Lambda==0 and Sigma==0 and iota==0 else 0\n",
    "    frac = (1+(-1)**(l_b+ell+p)*(1-tDelta))/np.sqrt(2-tDelta)\n",
    "    cgCoef = CG_with_table(f_,-phi,F_,phi,ell,0)\n",
    "    subC = subcoef_HFS_3( f_a,f_b,f_,phi,j_a,j_b,S_,Sigma_,I_,iota_,Lambda_,Omega_ )\n",
    "    return phase*frac*cgCoef*subC"
   ]
  },
  {
   "cell_type": "markdown",
   "id": "475abfbe-5226-4de6-b09b-644f7e62ced8",
   "metadata": {},
   "source": [
    "Should be 4 bases relevant for hfs rotation of the two different parities I think."
   ]
  },
  {
   "cell_type": "markdown",
   "id": "da4ed25b-a83a-4474-a36f-15a44eb28b34",
   "metadata": {},
   "source": [
    "Testing single unsymmetrized symmetrized state decomposition"
   ]
  },
  {
   "cell_type": "code",
   "execution_count": 275,
   "id": "3b22e677-3031-4a89-9c7d-3acd42314505",
   "metadata": {},
   "outputs": [
    {
     "name": "stdout",
     "output_type": "stream",
     "text": [
      "Total: 0.9999999999999992\n"
     ]
    }
   ],
   "source": [
    "S_, Sigma = 1,1\n",
    "i_a = i_b = 3/2\n",
    "I_, iota = 3,1\n",
    "Lambda = -1\n",
    "Omega=Sigma+Lambda\n",
    "phi=Omega+iota\n",
    "sumv=0\n",
    "ket = ','.join([str(v_) for v_ in [Lambda,S_,Sigma,I_,iota]])+r'\\rangle$'\n",
    "\n",
    "j_a = 1/2\n",
    "for f_a in np.arange(abs(i_a - j_a), i_a + j_a+1,1):\n",
    "    for j_b in [1/2,3/2]:\n",
    "        for f_b in np.arange(abs(i_a-j_b),i_a+j_b+1,1):\n",
    "            for f_ in np.arange(abs(f_a-f_b),f_a+f_b+1,1):\n",
    "                if abs(phi) > f_:\n",
    "                    continue\n",
    "                if f_ > S_+1+I_:\n",
    "                    continue\n",
    "                if f_ < min([abs(I_-(S_+1)),abs(S_-(I_+1))]):\n",
    "                    continue\n",
    "                val = subcoef_HFS_3( f_a,f_b,f_,phi,j_a, j_b,\n",
    "                                     S_, Sigma, I_, iota, Lambda, Omega,\n",
    "                                     False, False )\n",
    "                sumv += val**2\n",
    "                #display(Latex(r'$\\langle'+','.join([str(v_) for v_ in [f_,phi,f_a,f_b]])+'|'+ket+'->'+misc.round_sig_str(val**2)))\n",
    "print('Total:',sumv)"
   ]
  },
  {
   "cell_type": "markdown",
   "id": "2c494a8b-acd7-42b2-b388-578feb109a9d",
   "metadata": {},
   "source": [
    "### testing single sym state decomp"
   ]
  },
  {
   "cell_type": "code",
   "execution_count": 279,
   "id": "1607c8b6-5571-4881-8e01-085d6de1e6de",
   "metadata": {},
   "outputs": [
    {
     "data": {
      "text/plain": [
       "{'f': 2.0,\n",
       " 'f_a': 1.0,\n",
       " 'j_a': 0.5,\n",
       " 'i_a': 1.5,\n",
       " 'f_b': 3.0,\n",
       " 'j_b': 0.5,\n",
       " 'i_b': 1.5,\n",
       " 'ell': -2.0,\n",
       " 'totalParity': '+'}"
      ]
     },
     "execution_count": 279,
     "metadata": {},
     "output_type": "execute_result"
    }
   ],
   "source": [
    "caseE_basis[0]"
   ]
  },
  {
   "cell_type": "code",
   "execution_count": 281,
   "id": "8da714d7-1859-43ba-8d06-90c6a9f42f49",
   "metadata": {},
   "outputs": [
    {
     "data": {
      "text/plain": [
       "{'L': 1,\n",
       " '|Lambda|': 1,\n",
       " 'sigma': 'g',\n",
       " 'S': 1,\n",
       " '|Sigma|': 1,\n",
       " 'i': 0.0,\n",
       " '|iota|': 0.0,\n",
       " 'i1': 1.5,\n",
       " 'i2': 1.5,\n",
       " '|Omega|': 0,\n",
       " 'phi': 0.0,\n",
       " 'sigma_vxz': -1,\n",
       " 'sigma_v2xz': -1.0,\n",
       " 'F': 0}"
      ]
     },
     "execution_count": 281,
     "metadata": {},
     "output_type": "execute_result"
    }
   ],
   "source": [
    "caseA_basis[0]"
   ]
  },
  {
   "cell_type": "code",
   "execution_count": 280,
   "id": "24b60f59-e741-492b-8bb7-b4d06ea64838",
   "metadata": {},
   "outputs": [],
   "source": [
    "Fv=0\n",
    "caseE_basis = createCaseE_BasisHfs(Fv)\n",
    "caseA_basis = mol.createCaseABasis_Sym([1], [0,1], [3/2], sigmavals=['g', 'u'],Fv=Fv)"
   ]
  },
  {
   "cell_type": "markdown",
   "id": "2c36e210-36b7-4cac-9acb-003d5afc9400",
   "metadata": {},
   "source": [
    "#### testing matrix generation"
   ]
  },
  {
   "cell_type": "code",
   "execution_count": 271,
   "id": "b6d0bda2-23ea-4128-9c32-f3b70216c593",
   "metadata": {},
   "outputs": [
    {
     "name": "stdout",
     "output_type": "stream",
     "text": [
      "0 A dict_keys(['-e', '+e']) 194\n",
      "0 E dict_keys(['+e', '-e']) 84\n",
      "0 A dict_keys(['-e', '+e']) 190\n",
      "0 E dict_keys(['+e', '-e']) 84\n"
     ]
    }
   ],
   "source": [
    "fvals=range(0,1)\n",
    "#jvals = [3,10,100,1000]\n",
    "superdata = {}\n",
    "for totalParity in ['+','-']:\n",
    "    for fValNum, Fv in enumerate(fvals):\n",
    "        #caseAMostlySymHfs = mol.createCaseABasis_Sym([1],[0,1], [3/2], sigmavals=['g', 'u'], Fv=Fv)\n",
    "        caseE_basis = createCaseE_BasisHfs(Fv)\n",
    "        parity = ('e' if ((-1)**Fv)==1 else 'f')\n",
    "        rotSymBase_E = {}\n",
    "        for state in caseE_basis:\n",
    "            if (-1)**state['ell'] != -1:\n",
    "                continue\n",
    "            #print(state['totalParity'],'!')\n",
    "            label = state['totalParity'] + ('e' if ((-1)**(Fv))==1 else 'f')\n",
    "            if label[-1] != parity:\n",
    "                continue\n",
    "            if label not in rotSymBase_E:\n",
    "                rotSymBase_E[label] = []\n",
    "            if state not in rotSymBase_E[label]:\n",
    "                rotSymBase_E[label].append(state)\n",
    "        caseA_basis = mol.createCaseABasis_Sym([1], [0,1], [3/2], sigmavals=['g', 'u'],Fv=Fv)\n",
    "        rotSymBase_A = {}\n",
    "        for state in caseA_basis:\n",
    "            parity_ = '-' if state['sigma_v2xz'] == -1 else '+'\n",
    "            label = parity_ + ('e' if ((-1)**(state['F']))==1 else 'f')\n",
    "            if label[-1] != parity:\n",
    "                continue\n",
    "            if label not in rotSymBase_A:\n",
    "                rotSymBase_A[label] = []\n",
    "            if state not in rotSymBase_A[label]:\n",
    "                rotSymBase_A[label].append(state)\n",
    "            #rotSymBase_A[label].append(state)\n",
    "        #label = sigmaParity+parity\n",
    "        # this is the symmetry which will be analyzed in this round\n",
    "        label = totalParity+parity\n",
    "        #print(totalParity)\n",
    "        print(Fv,'A',rotSymBase_A.keys(),len(rotSymBase_A[label]))\n",
    "        print(Fv,'E',rotSymBase_E.keys(),len(rotSymBase_E[label]))\n",
    "        #etoa = create_EtoA_Matrix_Hfs(rotSymBase_A[label], rotSymBase_E[label], verbose=False).T"
   ]
  },
  {
   "cell_type": "code",
   "execution_count": 251,
   "id": "90520dba-28cb-4c95-b412-30f2846b3c43",
   "metadata": {},
   "outputs": [
    {
     "data": {
      "text/plain": [
       "0.0"
      ]
     },
     "execution_count": 251,
     "metadata": {},
     "output_type": "execute_result"
    }
   ],
   "source": [
    "min(etoa.flatten())"
   ]
  },
  {
   "cell_type": "code",
   "execution_count": 256,
   "id": "f9d6ebf6-c58e-4145-ac92-5f984e2c1b12",
   "metadata": {},
   "outputs": [
    {
     "name": "stdout",
     "output_type": "stream",
     "text": [
      "{'L': 1, '|Lambda|': 1, 'sigma': 'g', 'S': 1, '|Sigma|': 1, 'i': 0.0, '|iota|': 0.0, 'i1': 1.5, 'i2': 1.5, '|Omega|': 0, 'phi': 0.0, 'sigma_vxz': -1, 'sigma_v2xz': -1.0, 'F': 0}\n",
      "{'L': 1, '|Lambda|': 1, 'sigma': 'g', 'S': 1, '|Sigma|': 1, 'i': 1.0, '|iota|': 1.0, 'i1': 1.5, 'i2': 1.5, '|Omega|': 0, 'phi': -1.0, 'sigma_vxz': -1, 'sigma_v2xz': -1.0, 'F': 0}\n",
      "{'L': 1, '|Lambda|': 1, 'sigma': 'g', 'S': 1, '|Sigma|': 1, 'i': 1.0, '|iota|': 0.0, 'i1': 1.5, 'i2': 1.5, '|Omega|': 0, 'phi': 0.0, 'sigma_vxz': 1, 'sigma_v2xz': -1.0, 'F': 0}\n",
      "{'L': 1, '|Lambda|': 1, 'sigma': 'g', 'S': 1, '|Sigma|': 1, 'i': 1.0, '|iota|': 1.0, 'i1': 1.5, 'i2': 1.5, '|Omega|': 0, 'phi': 1.0, 'sigma_vxz': -1, 'sigma_v2xz': -1.0, 'F': 0}\n",
      "{'L': 1, '|Lambda|': 1, 'sigma': 'g', 'S': 1, '|Sigma|': 1, 'i': 2.0, '|iota|': 2.0, 'i1': 1.5, 'i2': 1.5, '|Omega|': 0, 'phi': -2.0, 'sigma_vxz': -1, 'sigma_v2xz': -1.0, 'F': 0}\n",
      "{'L': 1, '|Lambda|': 1, 'sigma': 'g', 'S': 1, '|Sigma|': 1, 'i': 2.0, '|iota|': 1.0, 'i1': 1.5, 'i2': 1.5, '|Omega|': 0, 'phi': -1.0, 'sigma_vxz': 1, 'sigma_v2xz': -1.0, 'F': 0}\n",
      "{'L': 1, '|Lambda|': 1, 'sigma': 'g', 'S': 1, '|Sigma|': 1, 'i': 2.0, '|iota|': 0.0, 'i1': 1.5, 'i2': 1.5, '|Omega|': 0, 'phi': 0.0, 'sigma_vxz': -1, 'sigma_v2xz': -1.0, 'F': 0}\n",
      "{'L': 1, '|Lambda|': 1, 'sigma': 'g', 'S': 1, '|Sigma|': 1, 'i': 2.0, '|iota|': 1.0, 'i1': 1.5, 'i2': 1.5, '|Omega|': 0, 'phi': 1.0, 'sigma_vxz': 1, 'sigma_v2xz': -1.0, 'F': 0}\n",
      "{'L': 1, '|Lambda|': 1, 'sigma': 'g', 'S': 1, '|Sigma|': 1, 'i': 2.0, '|iota|': 2.0, 'i1': 1.5, 'i2': 1.5, '|Omega|': 0, 'phi': 2.0, 'sigma_vxz': -1, 'sigma_v2xz': -1.0, 'F': 0}\n",
      "{'L': 1, '|Lambda|': 1, 'sigma': 'g', 'S': 1, '|Sigma|': 1, 'i': 3.0, '|iota|': 3.0, 'i1': 1.5, 'i2': 1.5, '|Omega|': 0, 'phi': -3.0, 'sigma_vxz': -1, 'sigma_v2xz': -1.0, 'F': 0}\n",
      "{'L': 1, '|Lambda|': 1, 'sigma': 'g', 'S': 1, '|Sigma|': 1, 'i': 3.0, '|iota|': 2.0, 'i1': 1.5, 'i2': 1.5, '|Omega|': 0, 'phi': -2.0, 'sigma_vxz': 1, 'sigma_v2xz': -1.0, 'F': 0}\n",
      "{'L': 1, '|Lambda|': 1, 'sigma': 'g', 'S': 1, '|Sigma|': 1, 'i': 3.0, '|iota|': 1.0, 'i1': 1.5, 'i2': 1.5, '|Omega|': 0, 'phi': -1.0, 'sigma_vxz': -1, 'sigma_v2xz': -1.0, 'F': 0}\n",
      "{'L': 1, '|Lambda|': 1, 'sigma': 'g', 'S': 1, '|Sigma|': 1, 'i': 3.0, '|iota|': 0.0, 'i1': 1.5, 'i2': 1.5, '|Omega|': 0, 'phi': 0.0, 'sigma_vxz': 1, 'sigma_v2xz': -1.0, 'F': 0}\n",
      "{'L': 1, '|Lambda|': 1, 'sigma': 'g', 'S': 1, '|Sigma|': 1, 'i': 3.0, '|iota|': 1.0, 'i1': 1.5, 'i2': 1.5, '|Omega|': 0, 'phi': 1.0, 'sigma_vxz': -1, 'sigma_v2xz': -1.0, 'F': 0}\n",
      "{'L': 1, '|Lambda|': 1, 'sigma': 'g', 'S': 1, '|Sigma|': 1, 'i': 3.0, '|iota|': 2.0, 'i1': 1.5, 'i2': 1.5, '|Omega|': 0, 'phi': 2.0, 'sigma_vxz': 1, 'sigma_v2xz': -1.0, 'F': 0}\n",
      "{'L': 1, '|Lambda|': 1, 'sigma': 'g', 'S': 1, '|Sigma|': 1, 'i': 3.0, '|iota|': 3.0, 'i1': 1.5, 'i2': 1.5, '|Omega|': 0, 'phi': 3.0, 'sigma_vxz': -1, 'sigma_v2xz': -1.0, 'F': 0}\n",
      "{'L': 1, '|Lambda|': 0, 'sigma': 'g', 'S': 0, '|Sigma|': 0, 'i': 0.0, '|iota|': 0.0, 'i1': 1.5, 'i2': 1.5, '|Omega|': 0, 'phi': 0.0, 'sigma_vxz': -1, 'sigma_v2xz': -1.0, 'F': 0}\n",
      "{'L': 1, '|Lambda|': 0, 'sigma': 'g', 'S': 0, '|Sigma|': 0, 'i': 1.0, '|iota|': 1.0, 'i1': 1.5, 'i2': 1.5, '|Omega|': 0, 'phi': -1.0, 'sigma_vxz': -1, 'sigma_v2xz': -1.0, 'F': 0}\n",
      "{'L': 1, '|Lambda|': 0, 'sigma': 'g', 'S': 0, '|Sigma|': 0, 'i': 1.0, '|iota|': 1.0, 'i1': 1.5, 'i2': 1.5, '|Omega|': 0, 'phi': 1.0, 'sigma_vxz': -1, 'sigma_v2xz': -1.0, 'F': 0}\n",
      "{'L': 1, '|Lambda|': 0, 'sigma': 'g', 'S': 0, '|Sigma|': 0, 'i': 2.0, '|iota|': 2.0, 'i1': 1.5, 'i2': 1.5, '|Omega|': 0, 'phi': -2.0, 'sigma_vxz': -1, 'sigma_v2xz': -1.0, 'F': 0}\n",
      "{'L': 1, '|Lambda|': 0, 'sigma': 'g', 'S': 0, '|Sigma|': 0, 'i': 2.0, '|iota|': 0.0, 'i1': 1.5, 'i2': 1.5, '|Omega|': 0, 'phi': 0.0, 'sigma_vxz': -1, 'sigma_v2xz': -1.0, 'F': 0}\n",
      "{'L': 1, '|Lambda|': 0, 'sigma': 'g', 'S': 0, '|Sigma|': 0, 'i': 2.0, '|iota|': 2.0, 'i1': 1.5, 'i2': 1.5, '|Omega|': 0, 'phi': 2.0, 'sigma_vxz': -1, 'sigma_v2xz': -1.0, 'F': 0}\n",
      "{'L': 1, '|Lambda|': 0, 'sigma': 'g', 'S': 0, '|Sigma|': 0, 'i': 3.0, '|iota|': 3.0, 'i1': 1.5, 'i2': 1.5, '|Omega|': 0, 'phi': -3.0, 'sigma_vxz': -1, 'sigma_v2xz': -1.0, 'F': 0}\n",
      "{'L': 1, '|Lambda|': 0, 'sigma': 'g', 'S': 0, '|Sigma|': 0, 'i': 3.0, '|iota|': 1.0, 'i1': 1.5, 'i2': 1.5, '|Omega|': 0, 'phi': -1.0, 'sigma_vxz': -1, 'sigma_v2xz': -1.0, 'F': 0}\n",
      "{'L': 1, '|Lambda|': 0, 'sigma': 'g', 'S': 0, '|Sigma|': 0, 'i': 3.0, '|iota|': 1.0, 'i1': 1.5, 'i2': 1.5, '|Omega|': 0, 'phi': 1.0, 'sigma_vxz': -1, 'sigma_v2xz': -1.0, 'F': 0}\n",
      "{'L': 1, '|Lambda|': 0, 'sigma': 'g', 'S': 0, '|Sigma|': 0, 'i': 3.0, '|iota|': 3.0, 'i1': 1.5, 'i2': 1.5, '|Omega|': 0, 'phi': 3.0, 'sigma_vxz': -1, 'sigma_v2xz': -1.0, 'F': 0}\n",
      "{'L': 1, '|Lambda|': 0, 'sigma': 'g', 'S': 1, '|Sigma|': 0, 'i': 1.0, '|iota|': 0.0, 'i1': 1.5, 'i2': 1.5, '|Omega|': 0, 'phi': 0.0, 'sigma_vxz': 1, 'sigma_v2xz': -1.0, 'F': 0}\n",
      "{'L': 1, '|Lambda|': 0, 'sigma': 'g', 'S': 1, '|Sigma|': 0, 'i': 2.0, '|iota|': 1.0, 'i1': 1.5, 'i2': 1.5, '|Omega|': 0, 'phi': -1.0, 'sigma_vxz': 1, 'sigma_v2xz': -1.0, 'F': 0}\n",
      "{'L': 1, '|Lambda|': 0, 'sigma': 'g', 'S': 1, '|Sigma|': 0, 'i': 2.0, '|iota|': 1.0, 'i1': 1.5, 'i2': 1.5, '|Omega|': 0, 'phi': 1.0, 'sigma_vxz': 1, 'sigma_v2xz': -1.0, 'F': 0}\n",
      "{'L': 1, '|Lambda|': 0, 'sigma': 'g', 'S': 1, '|Sigma|': 0, 'i': 3.0, '|iota|': 2.0, 'i1': 1.5, 'i2': 1.5, '|Omega|': 0, 'phi': -2.0, 'sigma_vxz': 1, 'sigma_v2xz': -1.0, 'F': 0}\n",
      "{'L': 1, '|Lambda|': 0, 'sigma': 'g', 'S': 1, '|Sigma|': 0, 'i': 3.0, '|iota|': 0.0, 'i1': 1.5, 'i2': 1.5, '|Omega|': 0, 'phi': 0.0, 'sigma_vxz': 1, 'sigma_v2xz': -1.0, 'F': 0}\n",
      "{'L': 1, '|Lambda|': 0, 'sigma': 'g', 'S': 1, '|Sigma|': 0, 'i': 3.0, '|iota|': 2.0, 'i1': 1.5, 'i2': 1.5, '|Omega|': 0, 'phi': 2.0, 'sigma_vxz': 1, 'sigma_v2xz': -1.0, 'F': 0}\n",
      "{'L': 1, '|Lambda|': 1, 'sigma': 'u', 'S': 1, '|Sigma|': 1, 'i': 0.0, '|iota|': 0.0, 'i1': 1.5, 'i2': 1.5, '|Omega|': 0, 'phi': 0.0, 'sigma_vxz': -1, 'sigma_v2xz': -1.0, 'F': 0}\n",
      "{'L': 1, '|Lambda|': 1, 'sigma': 'u', 'S': 1, '|Sigma|': 1, 'i': 1.0, '|iota|': 1.0, 'i1': 1.5, 'i2': 1.5, '|Omega|': 0, 'phi': -1.0, 'sigma_vxz': -1, 'sigma_v2xz': -1.0, 'F': 0}\n",
      "{'L': 1, '|Lambda|': 1, 'sigma': 'u', 'S': 1, '|Sigma|': 1, 'i': 1.0, '|iota|': 0.0, 'i1': 1.5, 'i2': 1.5, '|Omega|': 0, 'phi': 0.0, 'sigma_vxz': 1, 'sigma_v2xz': -1.0, 'F': 0}\n",
      "{'L': 1, '|Lambda|': 1, 'sigma': 'u', 'S': 1, '|Sigma|': 1, 'i': 1.0, '|iota|': 1.0, 'i1': 1.5, 'i2': 1.5, '|Omega|': 0, 'phi': 1.0, 'sigma_vxz': -1, 'sigma_v2xz': -1.0, 'F': 0}\n",
      "{'L': 1, '|Lambda|': 1, 'sigma': 'u', 'S': 1, '|Sigma|': 1, 'i': 2.0, '|iota|': 2.0, 'i1': 1.5, 'i2': 1.5, '|Omega|': 0, 'phi': -2.0, 'sigma_vxz': -1, 'sigma_v2xz': -1.0, 'F': 0}\n",
      "{'L': 1, '|Lambda|': 1, 'sigma': 'u', 'S': 1, '|Sigma|': 1, 'i': 2.0, '|iota|': 1.0, 'i1': 1.5, 'i2': 1.5, '|Omega|': 0, 'phi': -1.0, 'sigma_vxz': 1, 'sigma_v2xz': -1.0, 'F': 0}\n",
      "{'L': 1, '|Lambda|': 1, 'sigma': 'u', 'S': 1, '|Sigma|': 1, 'i': 2.0, '|iota|': 0.0, 'i1': 1.5, 'i2': 1.5, '|Omega|': 0, 'phi': 0.0, 'sigma_vxz': -1, 'sigma_v2xz': -1.0, 'F': 0}\n",
      "{'L': 1, '|Lambda|': 1, 'sigma': 'u', 'S': 1, '|Sigma|': 1, 'i': 2.0, '|iota|': 1.0, 'i1': 1.5, 'i2': 1.5, '|Omega|': 0, 'phi': 1.0, 'sigma_vxz': 1, 'sigma_v2xz': -1.0, 'F': 0}\n",
      "{'L': 1, '|Lambda|': 1, 'sigma': 'u', 'S': 1, '|Sigma|': 1, 'i': 2.0, '|iota|': 2.0, 'i1': 1.5, 'i2': 1.5, '|Omega|': 0, 'phi': 2.0, 'sigma_vxz': -1, 'sigma_v2xz': -1.0, 'F': 0}\n",
      "{'L': 1, '|Lambda|': 1, 'sigma': 'u', 'S': 1, '|Sigma|': 1, 'i': 3.0, '|iota|': 3.0, 'i1': 1.5, 'i2': 1.5, '|Omega|': 0, 'phi': -3.0, 'sigma_vxz': -1, 'sigma_v2xz': -1.0, 'F': 0}\n",
      "{'L': 1, '|Lambda|': 1, 'sigma': 'u', 'S': 1, '|Sigma|': 1, 'i': 3.0, '|iota|': 2.0, 'i1': 1.5, 'i2': 1.5, '|Omega|': 0, 'phi': -2.0, 'sigma_vxz': 1, 'sigma_v2xz': -1.0, 'F': 0}\n",
      "{'L': 1, '|Lambda|': 1, 'sigma': 'u', 'S': 1, '|Sigma|': 1, 'i': 3.0, '|iota|': 1.0, 'i1': 1.5, 'i2': 1.5, '|Omega|': 0, 'phi': -1.0, 'sigma_vxz': -1, 'sigma_v2xz': -1.0, 'F': 0}\n",
      "{'L': 1, '|Lambda|': 1, 'sigma': 'u', 'S': 1, '|Sigma|': 1, 'i': 3.0, '|iota|': 0.0, 'i1': 1.5, 'i2': 1.5, '|Omega|': 0, 'phi': 0.0, 'sigma_vxz': 1, 'sigma_v2xz': -1.0, 'F': 0}\n",
      "{'L': 1, '|Lambda|': 1, 'sigma': 'u', 'S': 1, '|Sigma|': 1, 'i': 3.0, '|iota|': 1.0, 'i1': 1.5, 'i2': 1.5, '|Omega|': 0, 'phi': 1.0, 'sigma_vxz': -1, 'sigma_v2xz': -1.0, 'F': 0}\n",
      "{'L': 1, '|Lambda|': 1, 'sigma': 'u', 'S': 1, '|Sigma|': 1, 'i': 3.0, '|iota|': 2.0, 'i1': 1.5, 'i2': 1.5, '|Omega|': 0, 'phi': 2.0, 'sigma_vxz': 1, 'sigma_v2xz': -1.0, 'F': 0}\n",
      "{'L': 1, '|Lambda|': 1, 'sigma': 'u', 'S': 1, '|Sigma|': 1, 'i': 3.0, '|iota|': 3.0, 'i1': 1.5, 'i2': 1.5, '|Omega|': 0, 'phi': 3.0, 'sigma_vxz': -1, 'sigma_v2xz': -1.0, 'F': 0}\n",
      "{'L': 1, '|Lambda|': 0, 'sigma': 'u', 'S': 0, '|Sigma|': 0, 'i': 0.0, '|iota|': 0.0, 'i1': 1.5, 'i2': 1.5, '|Omega|': 0, 'phi': 0.0, 'sigma_vxz': -1, 'sigma_v2xz': -1.0, 'F': 0}\n",
      "{'L': 1, '|Lambda|': 0, 'sigma': 'u', 'S': 0, '|Sigma|': 0, 'i': 1.0, '|iota|': 1.0, 'i1': 1.5, 'i2': 1.5, '|Omega|': 0, 'phi': -1.0, 'sigma_vxz': -1, 'sigma_v2xz': -1.0, 'F': 0}\n",
      "{'L': 1, '|Lambda|': 0, 'sigma': 'u', 'S': 0, '|Sigma|': 0, 'i': 1.0, '|iota|': 1.0, 'i1': 1.5, 'i2': 1.5, '|Omega|': 0, 'phi': 1.0, 'sigma_vxz': -1, 'sigma_v2xz': -1.0, 'F': 0}\n",
      "{'L': 1, '|Lambda|': 0, 'sigma': 'u', 'S': 0, '|Sigma|': 0, 'i': 2.0, '|iota|': 2.0, 'i1': 1.5, 'i2': 1.5, '|Omega|': 0, 'phi': -2.0, 'sigma_vxz': -1, 'sigma_v2xz': -1.0, 'F': 0}\n",
      "{'L': 1, '|Lambda|': 0, 'sigma': 'u', 'S': 0, '|Sigma|': 0, 'i': 2.0, '|iota|': 0.0, 'i1': 1.5, 'i2': 1.5, '|Omega|': 0, 'phi': 0.0, 'sigma_vxz': -1, 'sigma_v2xz': -1.0, 'F': 0}\n",
      "{'L': 1, '|Lambda|': 0, 'sigma': 'u', 'S': 0, '|Sigma|': 0, 'i': 2.0, '|iota|': 2.0, 'i1': 1.5, 'i2': 1.5, '|Omega|': 0, 'phi': 2.0, 'sigma_vxz': -1, 'sigma_v2xz': -1.0, 'F': 0}\n",
      "{'L': 1, '|Lambda|': 0, 'sigma': 'u', 'S': 0, '|Sigma|': 0, 'i': 3.0, '|iota|': 3.0, 'i1': 1.5, 'i2': 1.5, '|Omega|': 0, 'phi': -3.0, 'sigma_vxz': -1, 'sigma_v2xz': -1.0, 'F': 0}\n",
      "{'L': 1, '|Lambda|': 0, 'sigma': 'u', 'S': 0, '|Sigma|': 0, 'i': 3.0, '|iota|': 1.0, 'i1': 1.5, 'i2': 1.5, '|Omega|': 0, 'phi': -1.0, 'sigma_vxz': -1, 'sigma_v2xz': -1.0, 'F': 0}\n",
      "{'L': 1, '|Lambda|': 0, 'sigma': 'u', 'S': 0, '|Sigma|': 0, 'i': 3.0, '|iota|': 1.0, 'i1': 1.5, 'i2': 1.5, '|Omega|': 0, 'phi': 1.0, 'sigma_vxz': -1, 'sigma_v2xz': -1.0, 'F': 0}\n",
      "{'L': 1, '|Lambda|': 0, 'sigma': 'u', 'S': 0, '|Sigma|': 0, 'i': 3.0, '|iota|': 3.0, 'i1': 1.5, 'i2': 1.5, '|Omega|': 0, 'phi': 3.0, 'sigma_vxz': -1, 'sigma_v2xz': -1.0, 'F': 0}\n",
      "{'L': 1, '|Lambda|': 0, 'sigma': 'u', 'S': 1, '|Sigma|': 0, 'i': 1.0, '|iota|': 0.0, 'i1': 1.5, 'i2': 1.5, '|Omega|': 0, 'phi': 0.0, 'sigma_vxz': 1, 'sigma_v2xz': -1.0, 'F': 0}\n",
      "{'L': 1, '|Lambda|': 0, 'sigma': 'u', 'S': 1, '|Sigma|': 0, 'i': 2.0, '|iota|': 1.0, 'i1': 1.5, 'i2': 1.5, '|Omega|': 0, 'phi': -1.0, 'sigma_vxz': 1, 'sigma_v2xz': -1.0, 'F': 0}\n",
      "{'L': 1, '|Lambda|': 0, 'sigma': 'u', 'S': 1, '|Sigma|': 0, 'i': 2.0, '|iota|': 1.0, 'i1': 1.5, 'i2': 1.5, '|Omega|': 0, 'phi': 1.0, 'sigma_vxz': 1, 'sigma_v2xz': -1.0, 'F': 0}\n",
      "{'L': 1, '|Lambda|': 0, 'sigma': 'u', 'S': 1, '|Sigma|': 0, 'i': 3.0, '|iota|': 2.0, 'i1': 1.5, 'i2': 1.5, '|Omega|': 0, 'phi': -2.0, 'sigma_vxz': 1, 'sigma_v2xz': -1.0, 'F': 0}\n",
      "{'L': 1, '|Lambda|': 0, 'sigma': 'u', 'S': 1, '|Sigma|': 0, 'i': 3.0, '|iota|': 0.0, 'i1': 1.5, 'i2': 1.5, '|Omega|': 0, 'phi': 0.0, 'sigma_vxz': 1, 'sigma_v2xz': -1.0, 'F': 0}\n",
      "{'L': 1, '|Lambda|': 0, 'sigma': 'u', 'S': 1, '|Sigma|': 0, 'i': 3.0, '|iota|': 2.0, 'i1': 1.5, 'i2': 1.5, '|Omega|': 0, 'phi': 2.0, 'sigma_vxz': 1, 'sigma_v2xz': -1.0, 'F': 0}\n",
      "{'L': 1, '|Lambda|': 1, 'sigma': 'g', 'S': 0, '|Sigma|': 0, 'i': 1.0, '|iota|': 0.0, 'i1': 1.5, 'i2': 1.5, '|Omega|': 1, 'phi': -1.0, 'sigma_vxz': 1, 'sigma_v2xz': -1.0, 'F': 0}\n",
      "{'L': 1, '|Lambda|': 1, 'sigma': 'g', 'S': 0, '|Sigma|': 0, 'i': 1.0, '|iota|': 1.0, 'i1': 1.5, 'i2': 1.5, '|Omega|': 1, 'phi': 0.0, 'sigma_vxz': 1, 'sigma_v2xz': -1, 'F': 0}\n",
      "{'L': 1, '|Lambda|': 1, 'sigma': 'g', 'S': 0, '|Sigma|': 0, 'i': 2.0, '|iota|': 1.0, 'i1': 1.5, 'i2': 1.5, '|Omega|': 1, 'phi': -2.0, 'sigma_vxz': 1, 'sigma_v2xz': -1.0, 'F': 0}\n",
      "{'L': 1, '|Lambda|': 1, 'sigma': 'g', 'S': 0, '|Sigma|': 0, 'i': 2.0, '|iota|': 1.0, 'i1': 1.5, 'i2': 1.5, '|Omega|': 1, 'phi': 0.0, 'sigma_vxz': 1, 'sigma_v2xz': -1, 'F': 0}\n",
      "{'L': 1, '|Lambda|': 1, 'sigma': 'g', 'S': 0, '|Sigma|': 0, 'i': 3.0, '|iota|': 2.0, 'i1': 1.5, 'i2': 1.5, '|Omega|': 1, 'phi': -3.0, 'sigma_vxz': 1, 'sigma_v2xz': -1.0, 'F': 0}\n",
      "{'L': 1, '|Lambda|': 1, 'sigma': 'g', 'S': 0, '|Sigma|': 0, 'i': 3.0, '|iota|': 0.0, 'i1': 1.5, 'i2': 1.5, '|Omega|': 1, 'phi': -1.0, 'sigma_vxz': 1, 'sigma_v2xz': -1.0, 'F': 0}\n",
      "{'L': 1, '|Lambda|': 1, 'sigma': 'g', 'S': 0, '|Sigma|': 0, 'i': 3.0, '|iota|': 1.0, 'i1': 1.5, 'i2': 1.5, '|Omega|': 1, 'phi': 0.0, 'sigma_vxz': 1, 'sigma_v2xz': -1, 'F': 0}\n",
      "{'L': 1, '|Lambda|': 1, 'sigma': 'g', 'S': 0, '|Sigma|': 0, 'i': 3.0, '|iota|': 2.0, 'i1': 1.5, 'i2': 1.5, '|Omega|': 1, 'phi': 1.0, 'sigma_vxz': 1, 'sigma_v2xz': -1.0, 'F': 0}\n",
      "{'L': 1, '|Lambda|': 1, 'sigma': 'g', 'S': 1, '|Sigma|': 0, 'i': 0.0, '|iota|': 0.0, 'i1': 1.5, 'i2': 1.5, '|Omega|': 1, 'phi': -1.0, 'sigma_vxz': -1, 'sigma_v2xz': -1.0, 'F': 0}\n",
      "{'L': 1, '|Lambda|': 1, 'sigma': 'g', 'S': 1, '|Sigma|': 0, 'i': 1.0, '|iota|': 1.0, 'i1': 1.5, 'i2': 1.5, '|Omega|': 1, 'phi': -2.0, 'sigma_vxz': -1, 'sigma_v2xz': -1.0, 'F': 0}\n",
      "{'L': 1, '|Lambda|': 1, 'sigma': 'g', 'S': 1, '|Sigma|': 0, 'i': 1.0, '|iota|': 1.0, 'i1': 1.5, 'i2': 1.5, '|Omega|': 1, 'phi': 0.0, 'sigma_vxz': -1, 'sigma_v2xz': -1, 'F': 0}\n",
      "{'L': 1, '|Lambda|': 1, 'sigma': 'g', 'S': 1, '|Sigma|': 0, 'i': 2.0, '|iota|': 2.0, 'i1': 1.5, 'i2': 1.5, '|Omega|': 1, 'phi': -3.0, 'sigma_vxz': -1, 'sigma_v2xz': -1.0, 'F': 0}\n",
      "{'L': 1, '|Lambda|': 1, 'sigma': 'g', 'S': 1, '|Sigma|': 0, 'i': 2.0, '|iota|': 0.0, 'i1': 1.5, 'i2': 1.5, '|Omega|': 1, 'phi': -1.0, 'sigma_vxz': -1, 'sigma_v2xz': -1.0, 'F': 0}\n",
      "{'L': 1, '|Lambda|': 1, 'sigma': 'g', 'S': 1, '|Sigma|': 0, 'i': 2.0, '|iota|': 1.0, 'i1': 1.5, 'i2': 1.5, '|Omega|': 1, 'phi': 0.0, 'sigma_vxz': -1, 'sigma_v2xz': -1, 'F': 0}\n",
      "{'L': 1, '|Lambda|': 1, 'sigma': 'g', 'S': 1, '|Sigma|': 0, 'i': 2.0, '|iota|': 2.0, 'i1': 1.5, 'i2': 1.5, '|Omega|': 1, 'phi': 1.0, 'sigma_vxz': -1, 'sigma_v2xz': -1.0, 'F': 0}\n",
      "{'L': 1, '|Lambda|': 1, 'sigma': 'g', 'S': 1, '|Sigma|': 0, 'i': 3.0, '|iota|': 3.0, 'i1': 1.5, 'i2': 1.5, '|Omega|': 1, 'phi': -4.0, 'sigma_vxz': -1, 'sigma_v2xz': -1.0, 'F': 0}\n",
      "{'L': 1, '|Lambda|': 1, 'sigma': 'g', 'S': 1, '|Sigma|': 0, 'i': 3.0, '|iota|': 1.0, 'i1': 1.5, 'i2': 1.5, '|Omega|': 1, 'phi': -2.0, 'sigma_vxz': -1, 'sigma_v2xz': -1.0, 'F': 0}\n",
      "{'L': 1, '|Lambda|': 1, 'sigma': 'g', 'S': 1, '|Sigma|': 0, 'i': 3.0, '|iota|': 1.0, 'i1': 1.5, 'i2': 1.5, '|Omega|': 1, 'phi': 0.0, 'sigma_vxz': -1, 'sigma_v2xz': -1, 'F': 0}\n",
      "{'L': 1, '|Lambda|': 1, 'sigma': 'g', 'S': 1, '|Sigma|': 0, 'i': 3.0, '|iota|': 3.0, 'i1': 1.5, 'i2': 1.5, '|Omega|': 1, 'phi': 2.0, 'sigma_vxz': -1, 'sigma_v2xz': -1.0, 'F': 0}\n",
      "{'L': 1, '|Lambda|': 0, 'sigma': 'g', 'S': 1, '|Sigma|': 1, 'i': 0.0, '|iota|': 0.0, 'i1': 1.5, 'i2': 1.5, '|Omega|': 1, 'phi': -1.0, 'sigma_vxz': -1, 'sigma_v2xz': -1.0, 'F': 0}\n",
      "{'L': 1, '|Lambda|': 0, 'sigma': 'g', 'S': 1, '|Sigma|': 1, 'i': 1.0, '|iota|': 1.0, 'i1': 1.5, 'i2': 1.5, '|Omega|': 1, 'phi': -2.0, 'sigma_vxz': -1, 'sigma_v2xz': -1.0, 'F': 0}\n",
      "{'L': 1, '|Lambda|': 0, 'sigma': 'g', 'S': 1, '|Sigma|': 1, 'i': 1.0, '|iota|': 1.0, 'i1': 1.5, 'i2': 1.5, '|Omega|': 1, 'phi': 0.0, 'sigma_vxz': -1, 'sigma_v2xz': -1, 'F': 0}\n",
      "{'L': 1, '|Lambda|': 0, 'sigma': 'g', 'S': 1, '|Sigma|': 1, 'i': 2.0, '|iota|': 2.0, 'i1': 1.5, 'i2': 1.5, '|Omega|': 1, 'phi': -3.0, 'sigma_vxz': -1, 'sigma_v2xz': -1.0, 'F': 0}\n",
      "{'L': 1, '|Lambda|': 0, 'sigma': 'g', 'S': 1, '|Sigma|': 1, 'i': 2.0, '|iota|': 0.0, 'i1': 1.5, 'i2': 1.5, '|Omega|': 1, 'phi': -1.0, 'sigma_vxz': -1, 'sigma_v2xz': -1.0, 'F': 0}\n",
      "{'L': 1, '|Lambda|': 0, 'sigma': 'g', 'S': 1, '|Sigma|': 1, 'i': 2.0, '|iota|': 1.0, 'i1': 1.5, 'i2': 1.5, '|Omega|': 1, 'phi': 0.0, 'sigma_vxz': -1, 'sigma_v2xz': -1, 'F': 0}\n",
      "{'L': 1, '|Lambda|': 0, 'sigma': 'g', 'S': 1, '|Sigma|': 1, 'i': 2.0, '|iota|': 2.0, 'i1': 1.5, 'i2': 1.5, '|Omega|': 1, 'phi': 1.0, 'sigma_vxz': -1, 'sigma_v2xz': -1.0, 'F': 0}\n",
      "{'L': 1, '|Lambda|': 0, 'sigma': 'g', 'S': 1, '|Sigma|': 1, 'i': 3.0, '|iota|': 3.0, 'i1': 1.5, 'i2': 1.5, '|Omega|': 1, 'phi': -4.0, 'sigma_vxz': -1, 'sigma_v2xz': -1.0, 'F': 0}\n",
      "{'L': 1, '|Lambda|': 0, 'sigma': 'g', 'S': 1, '|Sigma|': 1, 'i': 3.0, '|iota|': 1.0, 'i1': 1.5, 'i2': 1.5, '|Omega|': 1, 'phi': -2.0, 'sigma_vxz': -1, 'sigma_v2xz': -1.0, 'F': 0}\n",
      "{'L': 1, '|Lambda|': 0, 'sigma': 'g', 'S': 1, '|Sigma|': 1, 'i': 3.0, '|iota|': 1.0, 'i1': 1.5, 'i2': 1.5, '|Omega|': 1, 'phi': 0.0, 'sigma_vxz': -1, 'sigma_v2xz': -1, 'F': 0}\n",
      "{'L': 1, '|Lambda|': 0, 'sigma': 'g', 'S': 1, '|Sigma|': 1, 'i': 3.0, '|iota|': 3.0, 'i1': 1.5, 'i2': 1.5, '|Omega|': 1, 'phi': 2.0, 'sigma_vxz': -1, 'sigma_v2xz': -1.0, 'F': 0}\n",
      "{'L': 1, '|Lambda|': 0, 'sigma': 'g', 'S': 1, '|Sigma|': 1, 'i': 0.0, '|iota|': 0.0, 'i1': 1.5, 'i2': 1.5, '|Omega|': 1, 'phi': 1.0, 'sigma_vxz': -1, 'sigma_v2xz': -1.0, 'F': 0}\n",
      "{'L': 1, '|Lambda|': 0, 'sigma': 'g', 'S': 1, '|Sigma|': 1, 'i': 1.0, '|iota|': 1.0, 'i1': 1.5, 'i2': 1.5, '|Omega|': 1, 'phi': 2.0, 'sigma_vxz': -1, 'sigma_v2xz': -1.0, 'F': 0}\n",
      "{'L': 1, '|Lambda|': 0, 'sigma': 'g', 'S': 1, '|Sigma|': 1, 'i': 2.0, '|iota|': 2.0, 'i1': 1.5, 'i2': 1.5, '|Omega|': 1, 'phi': -1.0, 'sigma_vxz': -1, 'sigma_v2xz': -1.0, 'F': 0}\n",
      "{'L': 1, '|Lambda|': 0, 'sigma': 'g', 'S': 1, '|Sigma|': 1, 'i': 2.0, '|iota|': 0.0, 'i1': 1.5, 'i2': 1.5, '|Omega|': 1, 'phi': 1.0, 'sigma_vxz': -1, 'sigma_v2xz': -1.0, 'F': 0}\n",
      "{'L': 1, '|Lambda|': 0, 'sigma': 'g', 'S': 1, '|Sigma|': 1, 'i': 2.0, '|iota|': 2.0, 'i1': 1.5, 'i2': 1.5, '|Omega|': 1, 'phi': 3.0, 'sigma_vxz': -1, 'sigma_v2xz': -1.0, 'F': 0}\n",
      "{'L': 1, '|Lambda|': 0, 'sigma': 'g', 'S': 1, '|Sigma|': 1, 'i': 3.0, '|iota|': 3.0, 'i1': 1.5, 'i2': 1.5, '|Omega|': 1, 'phi': -2.0, 'sigma_vxz': -1, 'sigma_v2xz': -1.0, 'F': 0}\n",
      "{'L': 1, '|Lambda|': 0, 'sigma': 'g', 'S': 1, '|Sigma|': 1, 'i': 3.0, '|iota|': 1.0, 'i1': 1.5, 'i2': 1.5, '|Omega|': 1, 'phi': 2.0, 'sigma_vxz': -1, 'sigma_v2xz': -1.0, 'F': 0}\n",
      "{'L': 1, '|Lambda|': 0, 'sigma': 'g', 'S': 1, '|Sigma|': 1, 'i': 3.0, '|iota|': 3.0, 'i1': 1.5, 'i2': 1.5, '|Omega|': 1, 'phi': 4.0, 'sigma_vxz': -1, 'sigma_v2xz': -1.0, 'F': 0}\n",
      "{'L': 1, '|Lambda|': 1, 'sigma': 'g', 'S': 0, '|Sigma|': 0, 'i': 1.0, '|iota|': 0.0, 'i1': 1.5, 'i2': 1.5, '|Omega|': 1, 'phi': 1.0, 'sigma_vxz': 1, 'sigma_v2xz': -1.0, 'F': 0}\n",
      "{'L': 1, '|Lambda|': 1, 'sigma': 'g', 'S': 0, '|Sigma|': 0, 'i': 2.0, '|iota|': 1.0, 'i1': 1.5, 'i2': 1.5, '|Omega|': 1, 'phi': 2.0, 'sigma_vxz': 1, 'sigma_v2xz': -1.0, 'F': 0}\n",
      "{'L': 1, '|Lambda|': 1, 'sigma': 'g', 'S': 0, '|Sigma|': 0, 'i': 3.0, '|iota|': 2.0, 'i1': 1.5, 'i2': 1.5, '|Omega|': 1, 'phi': -1.0, 'sigma_vxz': 1, 'sigma_v2xz': -1.0, 'F': 0}\n",
      "{'L': 1, '|Lambda|': 1, 'sigma': 'g', 'S': 0, '|Sigma|': 0, 'i': 3.0, '|iota|': 0.0, 'i1': 1.5, 'i2': 1.5, '|Omega|': 1, 'phi': 1.0, 'sigma_vxz': 1, 'sigma_v2xz': -1.0, 'F': 0}\n",
      "{'L': 1, '|Lambda|': 1, 'sigma': 'g', 'S': 0, '|Sigma|': 0, 'i': 3.0, '|iota|': 2.0, 'i1': 1.5, 'i2': 1.5, '|Omega|': 1, 'phi': 3.0, 'sigma_vxz': 1, 'sigma_v2xz': -1.0, 'F': 0}\n",
      "{'L': 1, '|Lambda|': 1, 'sigma': 'g', 'S': 1, '|Sigma|': 0, 'i': 0.0, '|iota|': 0.0, 'i1': 1.5, 'i2': 1.5, '|Omega|': 1, 'phi': 1.0, 'sigma_vxz': -1, 'sigma_v2xz': -1.0, 'F': 0}\n",
      "{'L': 1, '|Lambda|': 1, 'sigma': 'g', 'S': 1, '|Sigma|': 0, 'i': 1.0, '|iota|': 1.0, 'i1': 1.5, 'i2': 1.5, '|Omega|': 1, 'phi': 2.0, 'sigma_vxz': -1, 'sigma_v2xz': -1.0, 'F': 0}\n",
      "{'L': 1, '|Lambda|': 1, 'sigma': 'g', 'S': 1, '|Sigma|': 0, 'i': 2.0, '|iota|': 2.0, 'i1': 1.5, 'i2': 1.5, '|Omega|': 1, 'phi': -1.0, 'sigma_vxz': -1, 'sigma_v2xz': -1.0, 'F': 0}\n",
      "{'L': 1, '|Lambda|': 1, 'sigma': 'g', 'S': 1, '|Sigma|': 0, 'i': 2.0, '|iota|': 0.0, 'i1': 1.5, 'i2': 1.5, '|Omega|': 1, 'phi': 1.0, 'sigma_vxz': -1, 'sigma_v2xz': -1.0, 'F': 0}\n",
      "{'L': 1, '|Lambda|': 1, 'sigma': 'g', 'S': 1, '|Sigma|': 0, 'i': 2.0, '|iota|': 2.0, 'i1': 1.5, 'i2': 1.5, '|Omega|': 1, 'phi': 3.0, 'sigma_vxz': -1, 'sigma_v2xz': -1.0, 'F': 0}\n",
      "{'L': 1, '|Lambda|': 1, 'sigma': 'g', 'S': 1, '|Sigma|': 0, 'i': 3.0, '|iota|': 3.0, 'i1': 1.5, 'i2': 1.5, '|Omega|': 1, 'phi': -2.0, 'sigma_vxz': -1, 'sigma_v2xz': -1.0, 'F': 0}\n",
      "{'L': 1, '|Lambda|': 1, 'sigma': 'g', 'S': 1, '|Sigma|': 0, 'i': 3.0, '|iota|': 1.0, 'i1': 1.5, 'i2': 1.5, '|Omega|': 1, 'phi': 2.0, 'sigma_vxz': -1, 'sigma_v2xz': -1.0, 'F': 0}\n",
      "{'L': 1, '|Lambda|': 1, 'sigma': 'g', 'S': 1, '|Sigma|': 0, 'i': 3.0, '|iota|': 3.0, 'i1': 1.5, 'i2': 1.5, '|Omega|': 1, 'phi': 4.0, 'sigma_vxz': -1, 'sigma_v2xz': -1.0, 'F': 0}\n",
      "{'L': 1, '|Lambda|': 1, 'sigma': 'u', 'S': 0, '|Sigma|': 0, 'i': 1.0, '|iota|': 0.0, 'i1': 1.5, 'i2': 1.5, '|Omega|': 1, 'phi': -1.0, 'sigma_vxz': 1, 'sigma_v2xz': -1.0, 'F': 0}\n",
      "{'L': 1, '|Lambda|': 1, 'sigma': 'u', 'S': 0, '|Sigma|': 0, 'i': 1.0, '|iota|': 1.0, 'i1': 1.5, 'i2': 1.5, '|Omega|': 1, 'phi': 0.0, 'sigma_vxz': 1, 'sigma_v2xz': -1, 'F': 0}\n",
      "{'L': 1, '|Lambda|': 1, 'sigma': 'u', 'S': 0, '|Sigma|': 0, 'i': 2.0, '|iota|': 1.0, 'i1': 1.5, 'i2': 1.5, '|Omega|': 1, 'phi': -2.0, 'sigma_vxz': 1, 'sigma_v2xz': -1.0, 'F': 0}\n",
      "{'L': 1, '|Lambda|': 1, 'sigma': 'u', 'S': 0, '|Sigma|': 0, 'i': 2.0, '|iota|': 1.0, 'i1': 1.5, 'i2': 1.5, '|Omega|': 1, 'phi': 0.0, 'sigma_vxz': 1, 'sigma_v2xz': -1, 'F': 0}\n",
      "{'L': 1, '|Lambda|': 1, 'sigma': 'u', 'S': 0, '|Sigma|': 0, 'i': 3.0, '|iota|': 2.0, 'i1': 1.5, 'i2': 1.5, '|Omega|': 1, 'phi': -3.0, 'sigma_vxz': 1, 'sigma_v2xz': -1.0, 'F': 0}\n",
      "{'L': 1, '|Lambda|': 1, 'sigma': 'u', 'S': 0, '|Sigma|': 0, 'i': 3.0, '|iota|': 0.0, 'i1': 1.5, 'i2': 1.5, '|Omega|': 1, 'phi': -1.0, 'sigma_vxz': 1, 'sigma_v2xz': -1.0, 'F': 0}\n",
      "{'L': 1, '|Lambda|': 1, 'sigma': 'u', 'S': 0, '|Sigma|': 0, 'i': 3.0, '|iota|': 1.0, 'i1': 1.5, 'i2': 1.5, '|Omega|': 1, 'phi': 0.0, 'sigma_vxz': 1, 'sigma_v2xz': -1, 'F': 0}\n",
      "{'L': 1, '|Lambda|': 1, 'sigma': 'u', 'S': 0, '|Sigma|': 0, 'i': 3.0, '|iota|': 2.0, 'i1': 1.5, 'i2': 1.5, '|Omega|': 1, 'phi': 1.0, 'sigma_vxz': 1, 'sigma_v2xz': -1.0, 'F': 0}\n",
      "{'L': 1, '|Lambda|': 1, 'sigma': 'u', 'S': 1, '|Sigma|': 0, 'i': 0.0, '|iota|': 0.0, 'i1': 1.5, 'i2': 1.5, '|Omega|': 1, 'phi': -1.0, 'sigma_vxz': -1, 'sigma_v2xz': -1.0, 'F': 0}\n",
      "{'L': 1, '|Lambda|': 1, 'sigma': 'u', 'S': 1, '|Sigma|': 0, 'i': 1.0, '|iota|': 1.0, 'i1': 1.5, 'i2': 1.5, '|Omega|': 1, 'phi': -2.0, 'sigma_vxz': -1, 'sigma_v2xz': -1.0, 'F': 0}\n",
      "{'L': 1, '|Lambda|': 1, 'sigma': 'u', 'S': 1, '|Sigma|': 0, 'i': 1.0, '|iota|': 1.0, 'i1': 1.5, 'i2': 1.5, '|Omega|': 1, 'phi': 0.0, 'sigma_vxz': -1, 'sigma_v2xz': -1, 'F': 0}\n",
      "{'L': 1, '|Lambda|': 1, 'sigma': 'u', 'S': 1, '|Sigma|': 0, 'i': 2.0, '|iota|': 2.0, 'i1': 1.5, 'i2': 1.5, '|Omega|': 1, 'phi': -3.0, 'sigma_vxz': -1, 'sigma_v2xz': -1.0, 'F': 0}\n",
      "{'L': 1, '|Lambda|': 1, 'sigma': 'u', 'S': 1, '|Sigma|': 0, 'i': 2.0, '|iota|': 0.0, 'i1': 1.5, 'i2': 1.5, '|Omega|': 1, 'phi': -1.0, 'sigma_vxz': -1, 'sigma_v2xz': -1.0, 'F': 0}\n",
      "{'L': 1, '|Lambda|': 1, 'sigma': 'u', 'S': 1, '|Sigma|': 0, 'i': 2.0, '|iota|': 1.0, 'i1': 1.5, 'i2': 1.5, '|Omega|': 1, 'phi': 0.0, 'sigma_vxz': -1, 'sigma_v2xz': -1, 'F': 0}\n",
      "{'L': 1, '|Lambda|': 1, 'sigma': 'u', 'S': 1, '|Sigma|': 0, 'i': 2.0, '|iota|': 2.0, 'i1': 1.5, 'i2': 1.5, '|Omega|': 1, 'phi': 1.0, 'sigma_vxz': -1, 'sigma_v2xz': -1.0, 'F': 0}\n",
      "{'L': 1, '|Lambda|': 1, 'sigma': 'u', 'S': 1, '|Sigma|': 0, 'i': 3.0, '|iota|': 3.0, 'i1': 1.5, 'i2': 1.5, '|Omega|': 1, 'phi': -4.0, 'sigma_vxz': -1, 'sigma_v2xz': -1.0, 'F': 0}\n",
      "{'L': 1, '|Lambda|': 1, 'sigma': 'u', 'S': 1, '|Sigma|': 0, 'i': 3.0, '|iota|': 1.0, 'i1': 1.5, 'i2': 1.5, '|Omega|': 1, 'phi': -2.0, 'sigma_vxz': -1, 'sigma_v2xz': -1.0, 'F': 0}\n",
      "{'L': 1, '|Lambda|': 1, 'sigma': 'u', 'S': 1, '|Sigma|': 0, 'i': 3.0, '|iota|': 1.0, 'i1': 1.5, 'i2': 1.5, '|Omega|': 1, 'phi': 0.0, 'sigma_vxz': -1, 'sigma_v2xz': -1, 'F': 0}\n",
      "{'L': 1, '|Lambda|': 1, 'sigma': 'u', 'S': 1, '|Sigma|': 0, 'i': 3.0, '|iota|': 3.0, 'i1': 1.5, 'i2': 1.5, '|Omega|': 1, 'phi': 2.0, 'sigma_vxz': -1, 'sigma_v2xz': -1.0, 'F': 0}\n",
      "{'L': 1, '|Lambda|': 0, 'sigma': 'u', 'S': 1, '|Sigma|': 1, 'i': 0.0, '|iota|': 0.0, 'i1': 1.5, 'i2': 1.5, '|Omega|': 1, 'phi': -1.0, 'sigma_vxz': -1, 'sigma_v2xz': -1.0, 'F': 0}\n",
      "{'L': 1, '|Lambda|': 0, 'sigma': 'u', 'S': 1, '|Sigma|': 1, 'i': 1.0, '|iota|': 1.0, 'i1': 1.5, 'i2': 1.5, '|Omega|': 1, 'phi': -2.0, 'sigma_vxz': -1, 'sigma_v2xz': -1.0, 'F': 0}\n",
      "{'L': 1, '|Lambda|': 0, 'sigma': 'u', 'S': 1, '|Sigma|': 1, 'i': 1.0, '|iota|': 1.0, 'i1': 1.5, 'i2': 1.5, '|Omega|': 1, 'phi': 0.0, 'sigma_vxz': -1, 'sigma_v2xz': -1, 'F': 0}\n",
      "{'L': 1, '|Lambda|': 0, 'sigma': 'u', 'S': 1, '|Sigma|': 1, 'i': 2.0, '|iota|': 2.0, 'i1': 1.5, 'i2': 1.5, '|Omega|': 1, 'phi': -3.0, 'sigma_vxz': -1, 'sigma_v2xz': -1.0, 'F': 0}\n",
      "{'L': 1, '|Lambda|': 0, 'sigma': 'u', 'S': 1, '|Sigma|': 1, 'i': 2.0, '|iota|': 0.0, 'i1': 1.5, 'i2': 1.5, '|Omega|': 1, 'phi': -1.0, 'sigma_vxz': -1, 'sigma_v2xz': -1.0, 'F': 0}\n",
      "{'L': 1, '|Lambda|': 0, 'sigma': 'u', 'S': 1, '|Sigma|': 1, 'i': 2.0, '|iota|': 1.0, 'i1': 1.5, 'i2': 1.5, '|Omega|': 1, 'phi': 0.0, 'sigma_vxz': -1, 'sigma_v2xz': -1, 'F': 0}\n",
      "{'L': 1, '|Lambda|': 0, 'sigma': 'u', 'S': 1, '|Sigma|': 1, 'i': 2.0, '|iota|': 2.0, 'i1': 1.5, 'i2': 1.5, '|Omega|': 1, 'phi': 1.0, 'sigma_vxz': -1, 'sigma_v2xz': -1.0, 'F': 0}\n",
      "{'L': 1, '|Lambda|': 0, 'sigma': 'u', 'S': 1, '|Sigma|': 1, 'i': 3.0, '|iota|': 3.0, 'i1': 1.5, 'i2': 1.5, '|Omega|': 1, 'phi': -4.0, 'sigma_vxz': -1, 'sigma_v2xz': -1.0, 'F': 0}\n",
      "{'L': 1, '|Lambda|': 0, 'sigma': 'u', 'S': 1, '|Sigma|': 1, 'i': 3.0, '|iota|': 1.0, 'i1': 1.5, 'i2': 1.5, '|Omega|': 1, 'phi': -2.0, 'sigma_vxz': -1, 'sigma_v2xz': -1.0, 'F': 0}\n",
      "{'L': 1, '|Lambda|': 0, 'sigma': 'u', 'S': 1, '|Sigma|': 1, 'i': 3.0, '|iota|': 1.0, 'i1': 1.5, 'i2': 1.5, '|Omega|': 1, 'phi': 0.0, 'sigma_vxz': -1, 'sigma_v2xz': -1, 'F': 0}\n",
      "{'L': 1, '|Lambda|': 0, 'sigma': 'u', 'S': 1, '|Sigma|': 1, 'i': 3.0, '|iota|': 3.0, 'i1': 1.5, 'i2': 1.5, '|Omega|': 1, 'phi': 2.0, 'sigma_vxz': -1, 'sigma_v2xz': -1.0, 'F': 0}\n",
      "{'L': 1, '|Lambda|': 0, 'sigma': 'u', 'S': 1, '|Sigma|': 1, 'i': 0.0, '|iota|': 0.0, 'i1': 1.5, 'i2': 1.5, '|Omega|': 1, 'phi': 1.0, 'sigma_vxz': -1, 'sigma_v2xz': -1.0, 'F': 0}\n",
      "{'L': 1, '|Lambda|': 0, 'sigma': 'u', 'S': 1, '|Sigma|': 1, 'i': 1.0, '|iota|': 1.0, 'i1': 1.5, 'i2': 1.5, '|Omega|': 1, 'phi': 2.0, 'sigma_vxz': -1, 'sigma_v2xz': -1.0, 'F': 0}\n",
      "{'L': 1, '|Lambda|': 0, 'sigma': 'u', 'S': 1, '|Sigma|': 1, 'i': 2.0, '|iota|': 2.0, 'i1': 1.5, 'i2': 1.5, '|Omega|': 1, 'phi': -1.0, 'sigma_vxz': -1, 'sigma_v2xz': -1.0, 'F': 0}\n",
      "{'L': 1, '|Lambda|': 0, 'sigma': 'u', 'S': 1, '|Sigma|': 1, 'i': 2.0, '|iota|': 0.0, 'i1': 1.5, 'i2': 1.5, '|Omega|': 1, 'phi': 1.0, 'sigma_vxz': -1, 'sigma_v2xz': -1.0, 'F': 0}\n",
      "{'L': 1, '|Lambda|': 0, 'sigma': 'u', 'S': 1, '|Sigma|': 1, 'i': 2.0, '|iota|': 2.0, 'i1': 1.5, 'i2': 1.5, '|Omega|': 1, 'phi': 3.0, 'sigma_vxz': -1, 'sigma_v2xz': -1.0, 'F': 0}\n",
      "{'L': 1, '|Lambda|': 0, 'sigma': 'u', 'S': 1, '|Sigma|': 1, 'i': 3.0, '|iota|': 3.0, 'i1': 1.5, 'i2': 1.5, '|Omega|': 1, 'phi': -2.0, 'sigma_vxz': -1, 'sigma_v2xz': -1.0, 'F': 0}\n",
      "{'L': 1, '|Lambda|': 0, 'sigma': 'u', 'S': 1, '|Sigma|': 1, 'i': 3.0, '|iota|': 1.0, 'i1': 1.5, 'i2': 1.5, '|Omega|': 1, 'phi': 2.0, 'sigma_vxz': -1, 'sigma_v2xz': -1.0, 'F': 0}\n",
      "{'L': 1, '|Lambda|': 0, 'sigma': 'u', 'S': 1, '|Sigma|': 1, 'i': 3.0, '|iota|': 3.0, 'i1': 1.5, 'i2': 1.5, '|Omega|': 1, 'phi': 4.0, 'sigma_vxz': -1, 'sigma_v2xz': -1.0, 'F': 0}\n",
      "{'L': 1, '|Lambda|': 1, 'sigma': 'u', 'S': 0, '|Sigma|': 0, 'i': 1.0, '|iota|': 0.0, 'i1': 1.5, 'i2': 1.5, '|Omega|': 1, 'phi': 1.0, 'sigma_vxz': 1, 'sigma_v2xz': -1.0, 'F': 0}\n",
      "{'L': 1, '|Lambda|': 1, 'sigma': 'u', 'S': 0, '|Sigma|': 0, 'i': 2.0, '|iota|': 1.0, 'i1': 1.5, 'i2': 1.5, '|Omega|': 1, 'phi': 2.0, 'sigma_vxz': 1, 'sigma_v2xz': -1.0, 'F': 0}\n",
      "{'L': 1, '|Lambda|': 1, 'sigma': 'u', 'S': 0, '|Sigma|': 0, 'i': 3.0, '|iota|': 2.0, 'i1': 1.5, 'i2': 1.5, '|Omega|': 1, 'phi': -1.0, 'sigma_vxz': 1, 'sigma_v2xz': -1.0, 'F': 0}\n",
      "{'L': 1, '|Lambda|': 1, 'sigma': 'u', 'S': 0, '|Sigma|': 0, 'i': 3.0, '|iota|': 0.0, 'i1': 1.5, 'i2': 1.5, '|Omega|': 1, 'phi': 1.0, 'sigma_vxz': 1, 'sigma_v2xz': -1.0, 'F': 0}\n",
      "{'L': 1, '|Lambda|': 1, 'sigma': 'u', 'S': 0, '|Sigma|': 0, 'i': 3.0, '|iota|': 2.0, 'i1': 1.5, 'i2': 1.5, '|Omega|': 1, 'phi': 3.0, 'sigma_vxz': 1, 'sigma_v2xz': -1.0, 'F': 0}\n",
      "{'L': 1, '|Lambda|': 1, 'sigma': 'u', 'S': 1, '|Sigma|': 0, 'i': 0.0, '|iota|': 0.0, 'i1': 1.5, 'i2': 1.5, '|Omega|': 1, 'phi': 1.0, 'sigma_vxz': -1, 'sigma_v2xz': -1.0, 'F': 0}\n",
      "{'L': 1, '|Lambda|': 1, 'sigma': 'u', 'S': 1, '|Sigma|': 0, 'i': 1.0, '|iota|': 1.0, 'i1': 1.5, 'i2': 1.5, '|Omega|': 1, 'phi': 2.0, 'sigma_vxz': -1, 'sigma_v2xz': -1.0, 'F': 0}\n",
      "{'L': 1, '|Lambda|': 1, 'sigma': 'u', 'S': 1, '|Sigma|': 0, 'i': 2.0, '|iota|': 2.0, 'i1': 1.5, 'i2': 1.5, '|Omega|': 1, 'phi': -1.0, 'sigma_vxz': -1, 'sigma_v2xz': -1.0, 'F': 0}\n",
      "{'L': 1, '|Lambda|': 1, 'sigma': 'u', 'S': 1, '|Sigma|': 0, 'i': 2.0, '|iota|': 0.0, 'i1': 1.5, 'i2': 1.5, '|Omega|': 1, 'phi': 1.0, 'sigma_vxz': -1, 'sigma_v2xz': -1.0, 'F': 0}\n",
      "{'L': 1, '|Lambda|': 1, 'sigma': 'u', 'S': 1, '|Sigma|': 0, 'i': 2.0, '|iota|': 2.0, 'i1': 1.5, 'i2': 1.5, '|Omega|': 1, 'phi': 3.0, 'sigma_vxz': -1, 'sigma_v2xz': -1.0, 'F': 0}\n",
      "{'L': 1, '|Lambda|': 1, 'sigma': 'u', 'S': 1, '|Sigma|': 0, 'i': 3.0, '|iota|': 3.0, 'i1': 1.5, 'i2': 1.5, '|Omega|': 1, 'phi': -2.0, 'sigma_vxz': -1, 'sigma_v2xz': -1.0, 'F': 0}\n",
      "{'L': 1, '|Lambda|': 1, 'sigma': 'u', 'S': 1, '|Sigma|': 0, 'i': 3.0, '|iota|': 1.0, 'i1': 1.5, 'i2': 1.5, '|Omega|': 1, 'phi': 2.0, 'sigma_vxz': -1, 'sigma_v2xz': -1.0, 'F': 0}\n",
      "{'L': 1, '|Lambda|': 1, 'sigma': 'u', 'S': 1, '|Sigma|': 0, 'i': 3.0, '|iota|': 3.0, 'i1': 1.5, 'i2': 1.5, '|Omega|': 1, 'phi': 4.0, 'sigma_vxz': -1, 'sigma_v2xz': -1.0, 'F': 0}\n",
      "{'L': 1, '|Lambda|': 1, 'sigma': 'g', 'S': 1, '|Sigma|': 1, 'i': 1.0, '|iota|': 0.0, 'i1': 1.5, 'i2': 1.5, '|Omega|': 2, 'phi': -2.0, 'sigma_vxz': 1, 'sigma_v2xz': -1.0, 'F': 0}\n",
      "{'L': 1, '|Lambda|': 1, 'sigma': 'g', 'S': 1, '|Sigma|': 1, 'i': 2.0, '|iota|': 1.0, 'i1': 1.5, 'i2': 1.5, '|Omega|': 2, 'phi': -3.0, 'sigma_vxz': 1, 'sigma_v2xz': -1.0, 'F': 0}\n",
      "{'L': 1, '|Lambda|': 1, 'sigma': 'g', 'S': 1, '|Sigma|': 1, 'i': 2.0, '|iota|': 1.0, 'i1': 1.5, 'i2': 1.5, '|Omega|': 2, 'phi': -1.0, 'sigma_vxz': 1, 'sigma_v2xz': -1.0, 'F': 0}\n",
      "{'L': 1, '|Lambda|': 1, 'sigma': 'g', 'S': 1, '|Sigma|': 1, 'i': 2.0, '|iota|': 2.0, 'i1': 1.5, 'i2': 1.5, '|Omega|': 2, 'phi': 0.0, 'sigma_vxz': 1, 'sigma_v2xz': -1, 'F': 0}\n",
      "{'L': 1, '|Lambda|': 1, 'sigma': 'g', 'S': 1, '|Sigma|': 1, 'i': 3.0, '|iota|': 2.0, 'i1': 1.5, 'i2': 1.5, '|Omega|': 2, 'phi': -4.0, 'sigma_vxz': 1, 'sigma_v2xz': -1.0, 'F': 0}\n",
      "{'L': 1, '|Lambda|': 1, 'sigma': 'g', 'S': 1, '|Sigma|': 1, 'i': 3.0, '|iota|': 0.0, 'i1': 1.5, 'i2': 1.5, '|Omega|': 2, 'phi': -2.0, 'sigma_vxz': 1, 'sigma_v2xz': -1.0, 'F': 0}\n",
      "{'L': 1, '|Lambda|': 1, 'sigma': 'g', 'S': 1, '|Sigma|': 1, 'i': 3.0, '|iota|': 2.0, 'i1': 1.5, 'i2': 1.5, '|Omega|': 2, 'phi': 0.0, 'sigma_vxz': 1, 'sigma_v2xz': -1, 'F': 0}\n",
      "{'L': 1, '|Lambda|': 1, 'sigma': 'g', 'S': 1, '|Sigma|': 1, 'i': 1.0, '|iota|': 0.0, 'i1': 1.5, 'i2': 1.5, '|Omega|': 2, 'phi': 2.0, 'sigma_vxz': 1, 'sigma_v2xz': -1.0, 'F': 0}\n",
      "{'L': 1, '|Lambda|': 1, 'sigma': 'g', 'S': 1, '|Sigma|': 1, 'i': 2.0, '|iota|': 1.0, 'i1': 1.5, 'i2': 1.5, '|Omega|': 2, 'phi': 1.0, 'sigma_vxz': 1, 'sigma_v2xz': -1.0, 'F': 0}\n",
      "{'L': 1, '|Lambda|': 1, 'sigma': 'g', 'S': 1, '|Sigma|': 1, 'i': 2.0, '|iota|': 1.0, 'i1': 1.5, 'i2': 1.5, '|Omega|': 2, 'phi': 3.0, 'sigma_vxz': 1, 'sigma_v2xz': -1.0, 'F': 0}\n",
      "{'L': 1, '|Lambda|': 1, 'sigma': 'g', 'S': 1, '|Sigma|': 1, 'i': 3.0, '|iota|': 0.0, 'i1': 1.5, 'i2': 1.5, '|Omega|': 2, 'phi': 2.0, 'sigma_vxz': 1, 'sigma_v2xz': -1.0, 'F': 0}\n",
      "{'L': 1, '|Lambda|': 1, 'sigma': 'g', 'S': 1, '|Sigma|': 1, 'i': 3.0, '|iota|': 2.0, 'i1': 1.5, 'i2': 1.5, '|Omega|': 2, 'phi': 4.0, 'sigma_vxz': 1, 'sigma_v2xz': -1.0, 'F': 0}\n",
      "{'L': 1, '|Lambda|': 1, 'sigma': 'u', 'S': 1, '|Sigma|': 1, 'i': 1.0, '|iota|': 0.0, 'i1': 1.5, 'i2': 1.5, '|Omega|': 2, 'phi': -2.0, 'sigma_vxz': 1, 'sigma_v2xz': -1.0, 'F': 0}\n",
      "{'L': 1, '|Lambda|': 1, 'sigma': 'u', 'S': 1, '|Sigma|': 1, 'i': 2.0, '|iota|': 1.0, 'i1': 1.5, 'i2': 1.5, '|Omega|': 2, 'phi': -3.0, 'sigma_vxz': 1, 'sigma_v2xz': -1.0, 'F': 0}\n",
      "{'L': 1, '|Lambda|': 1, 'sigma': 'u', 'S': 1, '|Sigma|': 1, 'i': 2.0, '|iota|': 1.0, 'i1': 1.5, 'i2': 1.5, '|Omega|': 2, 'phi': -1.0, 'sigma_vxz': 1, 'sigma_v2xz': -1.0, 'F': 0}\n",
      "{'L': 1, '|Lambda|': 1, 'sigma': 'u', 'S': 1, '|Sigma|': 1, 'i': 2.0, '|iota|': 2.0, 'i1': 1.5, 'i2': 1.5, '|Omega|': 2, 'phi': 0.0, 'sigma_vxz': 1, 'sigma_v2xz': -1, 'F': 0}\n",
      "{'L': 1, '|Lambda|': 1, 'sigma': 'u', 'S': 1, '|Sigma|': 1, 'i': 3.0, '|iota|': 2.0, 'i1': 1.5, 'i2': 1.5, '|Omega|': 2, 'phi': -4.0, 'sigma_vxz': 1, 'sigma_v2xz': -1.0, 'F': 0}\n",
      "{'L': 1, '|Lambda|': 1, 'sigma': 'u', 'S': 1, '|Sigma|': 1, 'i': 3.0, '|iota|': 0.0, 'i1': 1.5, 'i2': 1.5, '|Omega|': 2, 'phi': -2.0, 'sigma_vxz': 1, 'sigma_v2xz': -1.0, 'F': 0}\n",
      "{'L': 1, '|Lambda|': 1, 'sigma': 'u', 'S': 1, '|Sigma|': 1, 'i': 3.0, '|iota|': 2.0, 'i1': 1.5, 'i2': 1.5, '|Omega|': 2, 'phi': 0.0, 'sigma_vxz': 1, 'sigma_v2xz': -1, 'F': 0}\n",
      "{'L': 1, '|Lambda|': 1, 'sigma': 'u', 'S': 1, '|Sigma|': 1, 'i': 1.0, '|iota|': 0.0, 'i1': 1.5, 'i2': 1.5, '|Omega|': 2, 'phi': 2.0, 'sigma_vxz': 1, 'sigma_v2xz': -1.0, 'F': 0}\n",
      "{'L': 1, '|Lambda|': 1, 'sigma': 'u', 'S': 1, '|Sigma|': 1, 'i': 2.0, '|iota|': 1.0, 'i1': 1.5, 'i2': 1.5, '|Omega|': 2, 'phi': 1.0, 'sigma_vxz': 1, 'sigma_v2xz': -1.0, 'F': 0}\n",
      "{'L': 1, '|Lambda|': 1, 'sigma': 'u', 'S': 1, '|Sigma|': 1, 'i': 2.0, '|iota|': 1.0, 'i1': 1.5, 'i2': 1.5, '|Omega|': 2, 'phi': 3.0, 'sigma_vxz': 1, 'sigma_v2xz': -1.0, 'F': 0}\n",
      "{'L': 1, '|Lambda|': 1, 'sigma': 'u', 'S': 1, '|Sigma|': 1, 'i': 3.0, '|iota|': 0.0, 'i1': 1.5, 'i2': 1.5, '|Omega|': 2, 'phi': 2.0, 'sigma_vxz': 1, 'sigma_v2xz': -1.0, 'F': 0}\n",
      "{'L': 1, '|Lambda|': 1, 'sigma': 'u', 'S': 1, '|Sigma|': 1, 'i': 3.0, '|iota|': 2.0, 'i1': 1.5, 'i2': 1.5, '|Omega|': 2, 'phi': 4.0, 'sigma_vxz': 1, 'sigma_v2xz': -1.0, 'F': 0}\n"
     ]
    }
   ],
   "source": [
    "for x in rotSymBase_A[label]:\n",
    "    print(x)"
   ]
  },
  {
   "cell_type": "code",
   "execution_count": 204,
   "id": "f5048db9-9bd5-41cc-9443-cb60fa2790d8",
   "metadata": {},
   "outputs": [
    {
     "data": {
      "text/plain": [
       "{'L': 1,\n",
       " '|Lambda|': 1,\n",
       " 'sigma': 'g',\n",
       " 'S': 1,\n",
       " '|Sigma|': 1,\n",
       " 'i': 0.0,\n",
       " '|iota|': 0.0,\n",
       " 'i1': 1.5,\n",
       " 'i2': 1.5,\n",
       " '|Omega|': 0,\n",
       " 'phi': 0.0,\n",
       " 'sigma_vxz': -1,\n",
       " 'sigma_v2xz': -1.0,\n",
       " 'F': 0}"
      ]
     },
     "execution_count": 204,
     "metadata": {},
     "output_type": "execute_result"
    }
   ],
   "source": [
    "rotSymBase_A['-e'][0]"
   ]
  },
  {
   "cell_type": "code",
   "execution_count": null,
   "id": "851c77f0-3704-48ec-a181-6918d4623000",
   "metadata": {},
   "outputs": [],
   "source": []
  },
  {
   "cell_type": "code",
   "execution_count": null,
   "id": "fe29a77d-c127-4319-9219-c43bcb11bdaa",
   "metadata": {},
   "outputs": [],
   "source": []
  },
  {
   "cell_type": "code",
   "execution_count": null,
   "id": "94f7de27-1c63-498e-a602-974ea0506e08",
   "metadata": {},
   "outputs": [],
   "source": []
  },
  {
   "cell_type": "code",
   "execution_count": null,
   "id": "1a2fdc4f-902d-4204-bd45-b45f3cf8aab2",
   "metadata": {},
   "outputs": [],
   "source": []
  },
  {
   "cell_type": "code",
   "execution_count": null,
   "id": "28e15725-8889-42a1-b6ac-50f7b0290c4f",
   "metadata": {},
   "outputs": [],
   "source": []
  },
  {
   "cell_type": "code",
   "execution_count": null,
   "id": "c2044da5-9770-47d2-9dc1-e816d1f134a9",
   "metadata": {},
   "outputs": [],
   "source": []
  }
 ],
 "metadata": {
  "kernelspec": {
   "display_name": "Python 3 (ipykernel)",
   "language": "python",
   "name": "python3"
  },
  "language_info": {
   "codemirror_mode": {
    "name": "ipython",
    "version": 3
   },
   "file_extension": ".py",
   "mimetype": "text/x-python",
   "name": "python",
   "nbconvert_exporter": "python",
   "pygments_lexer": "ipython3",
   "version": "3.9.5"
  }
 },
 "nbformat": 4,
 "nbformat_minor": 5
}
